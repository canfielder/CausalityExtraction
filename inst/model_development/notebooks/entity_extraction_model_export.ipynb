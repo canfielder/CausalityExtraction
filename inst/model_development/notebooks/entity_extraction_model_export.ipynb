{
 "cells": [
  {
   "cell_type": "markdown",
   "metadata": {
    "id": "6NZxp-tBaPmw"
   },
   "source": [
    "# Purpose\n",
    "The purpose of this notebook is to train and export the model configuration selected from previous hyperparameter analysis.\n",
    "\n",
    "The following are the optimal parameters. Other parameter alignments are also stored in order to be able to compare different iterations of the model\n",
    "\n",
    "**Parameters Selected**:\n",
    "\n",
    "* **Embedding**: Glove\n",
    "* **Stopwords**: False\n",
    "* **Lemmatization**: False\n",
    "* **LSTM Stack**: True\n",
    "* **Hidden Dimension - Layer 1**: 32\n",
    "* **Hidden Dimension - Layer 2**: 128\n",
    "* **Dropout** : True\n",
    "* **Dropout Rate**: 0.5\n",
    "* **Sample Weights**: False\n",
    "* **Trainable**: True \n",
    "* **Time Distributed Output Layer**: True\n",
    "* **Optimizer**: rmsprop"
   ]
  },
  {
   "cell_type": "markdown",
   "metadata": {
    "id": "ydmpjBUaTSox"
   },
   "source": [
    "## Import"
   ]
  },
  {
   "cell_type": "markdown",
   "metadata": {
    "id": "5Ht4fSUCEYxb"
   },
   "source": [
    "### Packages"
   ]
  },
  {
   "cell_type": "code",
   "execution_count": 2,
   "metadata": {
    "id": "hLGnjMKjTQfO"
   },
   "outputs": [],
   "source": [
    "# General\n",
    "import codecs, io, os, re, sys, time\n",
    "from collections import OrderedDict \n",
    "from scipy.stats import uniform\n",
    "from tqdm import tqdm\n",
    "\n",
    "# Analysis\n",
    "import numpy as np\n",
    "import pandas as pd\n",
    "from sklearn.metrics import \\\n",
    "    accuracy_score, classification_report, confusion_matrix, \\\n",
    "    precision_recall_fscore_support\n",
    "from sklearn.model_selection import \\\n",
    "    ParameterGrid, RandomizedSearchCV, RepeatedStratifiedKFold\n",
    "from sklearn.utils.class_weight import compute_class_weight\n",
    "\n",
    "# Visual\n",
    "import matplotlib.pyplot as plt\n",
    "import seaborn as sn\n",
    "\n",
    "# Deep Learning\n",
    "import tensorflow as tf\n",
    "from keras.wrappers.scikit_learn import KerasClassifier\n",
    "from keras.callbacks import EarlyStopping\n",
    "from keras.layers.experimental.preprocessing import TextVectorization"
   ]
  },
  {
   "cell_type": "markdown",
   "metadata": {
    "id": "Rx49BG03Y0ti"
   },
   "source": [
    "### Custom Functions"
   ]
  },
  {
   "cell_type": "code",
   "execution_count": 3,
   "metadata": {
    "colab": {
     "base_uri": "https://localhost:8080/"
    },
    "executionInfo": {
     "elapsed": 7415,
     "status": "ok",
     "timestamp": 1614799372154,
     "user": {
      "displayName": "Evan Canfield",
      "photoUrl": "https://lh3.googleusercontent.com/a-/AOh14GhEQBcp694N8j_CiumfhnO4uh-h7N0uMc9ySCuRiA=s64",
      "userId": "16830523749518221174"
     },
     "user_tz": 300
    },
    "id": "2SSqGwonYyZz",
    "outputId": "eaa51fdb-6b38-4ef9-b5a3-85193e8518cf"
   },
   "outputs": [
    {
     "name": "stderr",
     "output_type": "stream",
     "text": [
      "[nltk_data] Downloading package wordnet to\n",
      "[nltk_data]     C:\\Users\\canfi\\AppData\\Roaming\\nltk_data...\n",
      "[nltk_data]   Package wordnet is already up-to-date!\n",
      "[nltk_data] Downloading package stopwords to\n",
      "[nltk_data]     C:\\Users\\canfi\\AppData\\Roaming\\nltk_data...\n",
      "[nltk_data]   Package stopwords is already up-to-date!\n"
     ]
    }
   ],
   "source": [
    "sys.path.append('*')\n",
    "from source_entity_extraction import *"
   ]
  },
  {
   "cell_type": "markdown",
   "metadata": {
    "id": "xB09vLl4nS3u"
   },
   "source": [
    "### Data\n",
    "The training data is imported and the necessary columns are converted to lists."
   ]
  },
  {
   "cell_type": "code",
   "execution_count": 4,
   "metadata": {
    "id": "T12Fmn31TQDB"
   },
   "outputs": [],
   "source": [
    "#import data\n",
    "path_dir_data =\"./../data/input/\"\n",
    "file_training_data = 'training_data_dir_multiclass.xlsx'\n",
    "path_training_data = os.path.join(path_dir_data, file_training_data)\n",
    "dataset = pd.read_excel(path_training_data,  engine='openpyxl')\n",
    "\n",
    "#convert into lists\n",
    "df = pd.DataFrame({\n",
    "    'text': dataset.sentence, \n",
    "    'node1': dataset.node_1, \n",
    "    'node2': dataset.node_2\n",
    "    })\n",
    "\n",
    "df.dropna(inplace = True)"
   ]
  },
  {
   "cell_type": "markdown",
   "metadata": {
    "id": "e_MPdcfREjIx"
   },
   "source": [
    "## Randomness\n",
    "To better control and compare results of the Entity Extraction model between the environments where the model is trainined (Python) and where it will be implemented (R/Shiny), we will attempt to control any random actions by the process to maintain consistent results."
   ]
  },
  {
   "cell_type": "code",
   "execution_count": 5,
   "metadata": {
    "id": "efNVlefmEhjD"
   },
   "outputs": [],
   "source": [
    "random_state = 5590\n",
    "np.random.seed(random_state)\n",
    "tf.random.set_seed(random_state)"
   ]
  },
  {
   "cell_type": "markdown",
   "metadata": {},
   "source": [
    "# Model Settings\n",
    "## Define All Configurations"
   ]
  },
  {
   "cell_type": "code",
   "execution_count": 6,
   "metadata": {},
   "outputs": [],
   "source": [
    "dct_alignments = {\n",
    "    \"initial\": {\n",
    "        \"EMBEDDING\": \"text_vectorization\",\n",
    "        \"MAX_LENGTH\": 70,\n",
    "        \"LEMMATIZE\": False,\n",
    "        \"STOP_WORDS\": False,\n",
    "        \"LSTM_STACK\": False,\n",
    "        \"HIDDEN_DIM_1\": \"\",\n",
    "        \"HIDDEN_DIM_2\": 3,\n",
    "        \"DROPOUT\": True,\n",
    "        \"DROPOUT_RATE\": 0.1,\n",
    "        \"SAMPLE_WEIGHTS\": False,\n",
    "        \"TRAINABLE\": \"\",\n",
    "        \"TIME_DISTRIBUTED\": True,\n",
    "        \"OPTIMIZER\": \"rmsprop\",\n",
    "        \"EPOCHS\": 60,\n",
    "    }, \n",
    "    \"optimal\": {\n",
    "        \"EMBEDDING\": \"glove\",\n",
    "        \"MAX_LENGTH\": 50,\n",
    "        \"LEMMATIZE\": False,\n",
    "        \"STOP_WORDS\": False,\n",
    "        \"LSTM_STACK\": True,\n",
    "        \"HIDDEN_DIM_1\": 32,\n",
    "        \"HIDDEN_DIM_2\": 128,\n",
    "        \"DROPOUT\": True,\n",
    "        \"DROPOUT_RATE\": 0.5,\n",
    "        \"SAMPLE_WEIGHTS\": False,\n",
    "        \"TRAINABLE\": True,\n",
    "        \"TIME_DISTRIBUTED\": True,\n",
    "        \"OPTIMIZER\": \"rmsprop\",\n",
    "        \"EPOCHS\": 250,\n",
    "    }\n",
    "}"
   ]
  },
  {
   "cell_type": "markdown",
   "metadata": {},
   "source": [
    "## Select Configuration"
   ]
  },
  {
   "cell_type": "code",
   "execution_count": 7,
   "metadata": {},
   "outputs": [],
   "source": [
    "# Label\n",
    "CONFIGURATION_LABEL = \"optimal\"\n",
    "\n",
    "# Extract Values\n",
    "EMBEDDING = dct_alignments[CONFIGURATION_LABEL][\"EMBEDDING\"]\n",
    "MAX_LENGTH = dct_alignments[CONFIGURATION_LABEL][\"MAX_LENGTH\"]\n",
    "LEMMATIZE = dct_alignments[CONFIGURATION_LABEL][\"LEMMATIZE\"]\n",
    "STOP_WORDS = dct_alignments[CONFIGURATION_LABEL][\"STOP_WORDS\"]\n",
    "LSTM_STACK = dct_alignments[CONFIGURATION_LABEL][\"LSTM_STACK\"]\n",
    "HIDDEN_DIM_1 = dct_alignments[CONFIGURATION_LABEL][\"HIDDEN_DIM_1\"]\n",
    "HIDDEN_DIM_2 = dct_alignments[CONFIGURATION_LABEL][\"HIDDEN_DIM_2\"]\n",
    "DROPOUT = dct_alignments[CONFIGURATION_LABEL][\"DROPOUT\"]\n",
    "DROPOUT_RATE = dct_alignments[CONFIGURATION_LABEL][\"DROPOUT_RATE\"]\n",
    "SAMPLE_WEIGHTS = dct_alignments[CONFIGURATION_LABEL][\"SAMPLE_WEIGHTS\"]\n",
    "TRAINABLE = dct_alignments[CONFIGURATION_LABEL][\"TRAINABLE\"]\n",
    "TIME_DISTRIBUTED = dct_alignments[CONFIGURATION_LABEL][\"TIME_DISTRIBUTED\"]\n",
    "OPTIMIZER = dct_alignments[CONFIGURATION_LABEL][\"OPTIMIZER\"]\n",
    "EPOCHS = dct_alignments[CONFIGURATION_LABEL][\"EPOCHS\"]"
   ]
  },
  {
   "cell_type": "markdown",
   "metadata": {
    "id": "TgdJLW9jMocN"
   },
   "source": [
    "# Global Actions\n",
    "The following section defines global settings or performs actions that are consistent across the entirety of this notebook."
   ]
  },
  {
   "cell_type": "markdown",
   "metadata": {
    "id": "qptDmZlpA7Zy"
   },
   "source": [
    "## Variables\n",
    "Varaibles that are used across multiple calls should be defined here."
   ]
  },
  {
   "cell_type": "code",
   "execution_count": 8,
   "metadata": {
    "id": "0e451rPAMjcr"
   },
   "outputs": [],
   "source": [
    "# Global Settings\n",
    "MAX_FEATURES = 1000\n",
    "BATCH_SIZE = 32\n",
    "TIME_STAMP =  time.strftime(\"%Y%m%d-%H%M%S\")"
   ]
  },
  {
   "cell_type": "markdown",
   "metadata": {
    "id": "3hQ3gKs81QD6"
   },
   "source": [
    "## Pre-Processing\n"
   ]
  },
  {
   "cell_type": "markdown",
   "metadata": {
    "id": "FjJoknIOCMfp"
   },
   "source": [
    "### Text Processing"
   ]
  },
  {
   "cell_type": "code",
   "execution_count": 9,
   "metadata": {
    "id": "j4Kcf4oOCRU_"
   },
   "outputs": [],
   "source": [
    "df = process_text(\n",
    "    df, \n",
    "    stopwords = LEMMATIZE,\n",
    "    lemmatize = STOP_WORDS\n",
    "    )"
   ]
  },
  {
   "cell_type": "markdown",
   "metadata": {
    "id": "pbN9WOKnERIT"
   },
   "source": [
    "### Target Generation\n",
    "With the text processing complete we will now create two versions of the target set. The first will have the feature tokens converted into numerical representations for each class: 0, 1, 2. Then we will also create a target set that is a one-hot-encoded representation of the numerical classes."
   ]
  },
  {
   "cell_type": "code",
   "execution_count": 10,
   "metadata": {
    "id": "9bT6hnmXEP0B"
   },
   "outputs": [],
   "source": [
    "df = target_gen_wrapper(\n",
    "    df, \n",
    "    max_length=MAX_LENGTH\n",
    "    )"
   ]
  },
  {
   "cell_type": "markdown",
   "metadata": {
    "id": "64dw6NIFtUq_"
   },
   "source": [
    "## Split Data into Training / Test Sets"
   ]
  },
  {
   "cell_type": "code",
   "execution_count": 11,
   "metadata": {
    "id": "7ajaFUJBtVFh"
   },
   "outputs": [],
   "source": [
    "from sklearn.model_selection import train_test_split\n",
    "df_train, df_test = train_test_split(\n",
    "    df,\n",
    "    test_size=0.25, \n",
    "    random_state = random_state\n",
    "    )"
   ]
  },
  {
   "cell_type": "markdown",
   "metadata": {
    "id": "gosWJiVrBKGh"
   },
   "source": [
    "Due to the different nature of random actions between R and Python, it is easier to export the test set than to duplciate the train/test split."
   ]
  },
  {
   "cell_type": "code",
   "execution_count": 12,
   "metadata": {
    "id": "rV1KYga4H7oS"
   },
   "outputs": [],
   "source": [
    "subfolder_a = \"outputs\"\n",
    "subfolder_entity = \"entity_extraction\"\n",
    "file_name = 'entity_extraction_test_set.csv'\n",
    "path = os.path.join(path_dir_data, subfolder_a, \n",
    "                    subfolder_entity, file_name)\n",
    "df_test.to_csv(path, index_label=False)"
   ]
  },
  {
   "cell_type": "markdown",
   "metadata": {
    "id": "Ber3b53hqSzf"
   },
   "source": [
    "# Feature/Target Definition\n",
    "We need to define a target variable and perform preprocessing steps on the features before inputting into the model"
   ]
  },
  {
   "cell_type": "code",
   "execution_count": 13,
   "metadata": {
    "id": "hdTIFDJMC6_7"
   },
   "outputs": [],
   "source": [
    "# Features\n",
    "X_train = df_train['text'].tolist()\n",
    "X_test = df_test['text'].tolist()\n",
    "\n",
    "# Targets\n",
    "y_train_val = df_train['target_labels'].tolist()\n",
    "y_test_val = df_test['target_labels'].tolist()"
   ]
  },
  {
   "cell_type": "markdown",
   "metadata": {
    "id": "URjHIl_SJUrL"
   },
   "source": [
    "### Export Target Classes\n",
    "To simplify eventual work in R, we will generate the our target classes the test dataset and export it."
   ]
  },
  {
   "cell_type": "code",
   "execution_count": 14,
   "metadata": {
    "id": "cmmdN11OJ_Ql"
   },
   "outputs": [],
   "source": [
    "# Export Test Target Values\n",
    "# Set File Location\n",
    "file_name = 'entity_extraction_test_target_classes_cause_effect.csv'\n",
    "path = os.path.join(path_dir_data, subfolder_a, subfolder_entity, file_name)\n",
    "\n",
    "# Convert Lists to Dataframe\n",
    "df_targets_test = pd.DataFrame(y_test_val)\n",
    "\n",
    "# Export Target Values\n",
    "df_targets_test.to_csv(path, index=False, header=False)"
   ]
  },
  {
   "cell_type": "markdown",
   "metadata": {
    "id": "OansVCCY4-gr"
   },
   "source": [
    "# Build Model"
   ]
  },
  {
   "cell_type": "markdown",
   "metadata": {
    "id": "VcSL2bersDcz"
   },
   "source": [
    "## Vectorization Layer"
   ]
  },
  {
   "cell_type": "code",
   "execution_count": 15,
   "metadata": {
    "colab": {
     "base_uri": "https://localhost:8080/"
    },
    "executionInfo": {
     "elapsed": 7673,
     "status": "ok",
     "timestamp": 1614799372497,
     "user": {
      "displayName": "Evan Canfield",
      "photoUrl": "https://lh3.googleusercontent.com/a-/AOh14GhEQBcp694N8j_CiumfhnO4uh-h7N0uMc9ySCuRiA=s64",
      "userId": "16830523749518221174"
     },
     "user_tz": 300
    },
    "id": "_YelOovwsHIH",
    "outputId": "0bf78d48-aaeb-4255-df0f-d9e95133f1d3"
   },
   "outputs": [
    {
     "name": "stdout",
     "output_type": "stream",
     "text": [
      "Vocabulary Size: 1000\n"
     ]
    }
   ],
   "source": [
    "vectorization_layer = TextVectorization(\n",
    "    max_tokens=MAX_FEATURES,\n",
    "    output_mode='int',\n",
    "    output_sequence_length=MAX_LENGTH\n",
    "    )\n",
    "\n",
    "vectorization_layer.adapt(X_train)\n",
    "\n",
    "vocab = vectorization_layer.get_vocabulary()\n",
    "vocab_len = len(vocab)\n",
    "print(f\"Vocabulary Size: {vocab_len}\")"
   ]
  },
  {
   "cell_type": "code",
   "execution_count": 16,
   "metadata": {
    "id": "g1jMc8KFsLO1"
   },
   "outputs": [],
   "source": [
    "# Inspect vocabulary\n",
    "word_index = dict(zip(vocab, range(len(vocab))))\n",
    "# word_index"
   ]
  },
  {
   "cell_type": "code",
   "execution_count": 17,
   "metadata": {
    "id": "kbclFu2RsO1j"
   },
   "outputs": [],
   "source": [
    "# # Inspect vectorization output\n",
    "# m = 5\n",
    "# test_string = X_train[m]\n",
    "# print(f\"Test String - Raw:\\n{test_string}\")\n",
    "# print()\n",
    "# test_string_vec = vectorization_layer([test_string])\n",
    "# print(f\"Test String - Vectorized:\\n{test_string_vec[0]}\")"
   ]
  },
  {
   "cell_type": "markdown",
   "metadata": {
    "id": "xx7AYiWgJRBI"
   },
   "source": [
    "## Embedding Layer"
   ]
  },
  {
   "cell_type": "markdown",
   "metadata": {},
   "source": [
    "### Initialize"
   ]
  },
  {
   "cell_type": "code",
   "execution_count": 18,
   "metadata": {
    "id": "EINlOPUIaprc"
   },
   "outputs": [],
   "source": [
    "dct_embedding_index = {}\n",
    "\n",
    "# Initialize None for text vectorizaiton\n",
    "dct_embedding_index[\"text_vectorization\"] = {\n",
    "    \"index\": None,\n",
    "    \"dimension\": None\n",
    "}\n",
    "\n",
    "dct_embedding_matrix = {\n",
    "    \"text_vectorization\": None\n",
    "}"
   ]
  },
  {
   "cell_type": "markdown",
   "metadata": {
    "id": "yJISyTDus41G"
   },
   "source": [
    "### Embedding Matrix"
   ]
  },
  {
   "cell_type": "markdown",
   "metadata": {
    "id": "aYc1L1JUJd3H"
   },
   "source": [
    "### Glove"
   ]
  },
  {
   "cell_type": "markdown",
   "metadata": {
    "id": "LhiOseO63Xbc"
   },
   "source": [
    "##### Import/Load Embeddings"
   ]
  },
  {
   "cell_type": "code",
   "execution_count": 19,
   "metadata": {
    "colab": {
     "base_uri": "https://localhost:8080/"
    },
    "executionInfo": {
     "elapsed": 16869,
     "status": "ok",
     "timestamp": 1614799381724,
     "user": {
      "displayName": "Evan Canfield",
      "photoUrl": "https://lh3.googleusercontent.com/a-/AOh14GhEQBcp694N8j_CiumfhnO4uh-h7N0uMc9ySCuRiA=s64",
      "userId": "16830523749518221174"
     },
     "user_tz": 300
    },
    "id": "BUjfgZfy0sLs",
    "outputId": "ad67a3f1-0562-43a6-8dd1-28156f16e709"
   },
   "outputs": [
    {
     "name": "stderr",
     "output_type": "stream",
     "text": [
      "1588it [00:00, 15879.49it/s]"
     ]
    },
    {
     "name": "stdout",
     "output_type": "stream",
     "text": [
      "Preparing embedding index...\n"
     ]
    },
    {
     "name": "stderr",
     "output_type": "stream",
     "text": [
      "400000it [00:20, 19763.82it/s]"
     ]
    },
    {
     "name": "stdout",
     "output_type": "stream",
     "text": [
      "Found 400000 word vectors.\n"
     ]
    },
    {
     "name": "stderr",
     "output_type": "stream",
     "text": [
      "\n"
     ]
    }
   ],
   "source": [
    "embed_label = \"glove\"\n",
    "embedding_dim = 100\n",
    "\n",
    "# Define file path\n",
    "subfolder_embed = \"pre_trained\"\n",
    "subfolder_embed_glove = \"glove.6B\"\n",
    "file_name = \"glove.6B.100d.txt\"\n",
    "path = os.path.join(path_dir_data, subfolder_embed, subfolder_embed_glove, file_name)\n",
    "\n",
    "print(\"Preparing embedding index...\")\n",
    "embeddings_index = {}\n",
    "with open(path, encoding=\"utf8\") as f:\n",
    "    for line in tqdm(f):\n",
    "        word, coefs = line.split(maxsplit=1)\n",
    "        coefs = np.fromstring(coefs, \"f\", sep=\" \")\n",
    "        embeddings_index[word] = coefs\n",
    "\n",
    "dct_embedding_index[embed_label] = {\n",
    "    \"index\": embeddings_index,\n",
    "    \"dimension\": embedding_dim\n",
    "}\n",
    "print(f\"Found {len(embeddings_index)} word vectors.\")"
   ]
  },
  {
   "cell_type": "markdown",
   "metadata": {
    "id": "vLQWr47v3ond"
   },
   "source": [
    "##### Create Matrix"
   ]
  },
  {
   "cell_type": "code",
   "execution_count": 20,
   "metadata": {
    "id": "CPQy-IM42n3W"
   },
   "outputs": [],
   "source": [
    "embedding_matrix = gen_embedding_matrix(\n",
    "    dct_embedding_index = dct_embedding_index,\n",
    "    embed_label = embed_label, \n",
    "    vocabulary_length = vocab_len, \n",
    "    word_index = word_index\n",
    ")\n",
    "\n",
    "dct_embedding_matrix[embed_label] = embedding_matrix"
   ]
  },
  {
   "cell_type": "markdown",
   "metadata": {
    "id": "HFwIbN1gXnUC"
   },
   "source": [
    "#### FastText"
   ]
  },
  {
   "cell_type": "markdown",
   "metadata": {
    "id": "QsRgC6r5Xzzb"
   },
   "source": [
    "##### Import/Load Embeddings"
   ]
  },
  {
   "cell_type": "code",
   "execution_count": 21,
   "metadata": {
    "colab": {
     "base_uri": "https://localhost:8080/"
    },
    "executionInfo": {
     "elapsed": 121570,
     "status": "ok",
     "timestamp": 1614799486444,
     "user": {
      "displayName": "Evan Canfield",
      "photoUrl": "https://lh3.googleusercontent.com/a-/AOh14GhEQBcp694N8j_CiumfhnO4uh-h7N0uMc9ySCuRiA=s64",
      "userId": "16830523749518221174"
     },
     "user_tz": 300
    },
    "id": "LFW5qF4aXyyb",
    "outputId": "6923415e-b5c6-43f9-81fd-9f841a8b21f4"
   },
   "outputs": [
    {
     "name": "stderr",
     "output_type": "stream",
     "text": [
      "639it [00:00, 6389.72it/s]"
     ]
    },
    {
     "name": "stdout",
     "output_type": "stream",
     "text": [
      "Preparing embedding index...\n"
     ]
    },
    {
     "name": "stderr",
     "output_type": "stream",
     "text": [
      "999995it [02:36, 6380.41it/s]"
     ]
    },
    {
     "name": "stdout",
     "output_type": "stream",
     "text": [
      "Found 999995 word vectors.\n"
     ]
    },
    {
     "name": "stderr",
     "output_type": "stream",
     "text": [
      "\n"
     ]
    }
   ],
   "source": [
    "embed_label = \"fasttext\"\n",
    "embedding_dim = 300\n",
    "\n",
    "# Define file path\n",
    "subfolder_embed = \"pre_trained\"\n",
    "subfolder_embed_fasttext = \"wiki-news-300d-1M.vec\"\n",
    "file_name = \"wiki-news-300d-1M.vec\"\n",
    "path = os.path.join(path_dir_data, subfolder_embed, subfolder_embed_fasttext, file_name)\n",
    "f = codecs.open(path, encoding='utf-8')\n",
    "\n",
    "print(\"Preparing embedding index...\")\n",
    "embeddings_index = {}\n",
    "for line in tqdm(f):\n",
    "    values = line.rstrip().rsplit(' ')\n",
    "    # print(values)\n",
    "    word = values[0]\n",
    "    # print(word)\n",
    "    coefs = np.asarray(values[1:], dtype='float32')\n",
    "    # print(coefs)\n",
    "    embeddings_index[word] = coefs\n",
    "f.close()\n",
    "\n",
    "dct_embedding_index[embed_label] = {\n",
    "    \"index\": embeddings_index,\n",
    "    \"dimension\": embedding_dim,\n",
    "}\n",
    "print(f'Found {len(embeddings_index)} word vectors.')"
   ]
  },
  {
   "cell_type": "markdown",
   "metadata": {
    "id": "WShkkuPbdHBg"
   },
   "source": [
    "##### Create Matrix"
   ]
  },
  {
   "cell_type": "code",
   "execution_count": 22,
   "metadata": {
    "id": "OcCiA4x8dGY6"
   },
   "outputs": [],
   "source": [
    "embedding_matrix = gen_embedding_matrix(\n",
    "    dct_embedding_index = dct_embedding_index,\n",
    "    embed_label = embed_label, \n",
    "    vocabulary_length = vocab_len, \n",
    "    word_index = word_index\n",
    ")\n",
    "\n",
    "dct_embedding_matrix[embed_label] = embedding_matrix"
   ]
  },
  {
   "cell_type": "markdown",
   "metadata": {
    "id": "igMZ00xO2__-"
   },
   "source": [
    "## Imbalance Class Management\n",
    "There is an imbalance in the classes predicted by the model. Roughly 90% of tokens are class 0 (not Cause or Entity node, filler words). The remaining classes (1: Cause, 2: Entity) account for about 5% of the remaining tokens, each.\n",
    "\n",
    "In order to better predict all classes in the dataset, and not create a model which simply predicts the default class, we need to weight each of these classes differently. Unfortunately, we cannot simply use the **class weights** input for training a Keras model. that is because we are predicting a 3D array as an output, and Keras will not allow the use of **class weights** in such a case. \n",
    "\n",
    "There is a workaround, as discussed in Keras Github issue 3653. We can use **sample weights**, with the sample weights mode set to *temporal*. \n",
    "\n",
    "https://github.com/keras-team/keras/issues/3653\n",
    "\n",
    "To apply sample weights to our model, we needa matrix of sample weights to account for all input values. This matrix will be the same size as the y_train output array (n samples X sample length).  "
   ]
  },
  {
   "cell_type": "markdown",
   "metadata": {
    "id": "15eMbOPwMd1x"
   },
   "source": [
    "### Sample Weights"
   ]
  },
  {
   "cell_type": "code",
   "execution_count": 23,
   "metadata": {
    "id": "t0Qr0yNAN4c_"
   },
   "outputs": [
    {
     "name": "stderr",
     "output_type": "stream",
     "text": [
      "D:\\anaconda3\\envs\\py-CausalityExtraction_36\\lib\\site-packages\\sklearn\\utils\\validation.py:70: FutureWarning: Pass classes=[0 1 2], y=[0 0 0 ... 0 0 0] as keyword args. From version 0.25 passing these as positional arguments will result in an error\n",
      "  FutureWarning)\n"
     ]
    }
   ],
   "source": [
    "# Initialize Sample weight matrix\n",
    "sample_weight_matrix = np.array(y_train_val).copy()\n",
    "\n",
    "# Flatten matrix\n",
    "sample_weight_matrix_fl = flatten_list(sample_weight_matrix)\n",
    "\n",
    "# Determine number of classes\n",
    "n_classes = np.unique(sample_weight_matrix_fl).shape[0]\n",
    "\n",
    "# Determine class weights\n",
    "class_weights = compute_class_weight(\n",
    "    \"balanced\", \n",
    "    np.unique(sample_weight_matrix_fl), \n",
    "    np.array(sample_weight_matrix_fl)\n",
    "    )\n",
    "\n",
    "# Replace class label with class weight\n",
    "for i in range(0, len(class_weights)):\n",
    "    sample_weight_matrix = np.where(\n",
    "            sample_weight_matrix==i, \n",
    "            class_weights[i], \n",
    "            sample_weight_matrix\n",
    "            ) "
   ]
  },
  {
   "cell_type": "markdown",
   "metadata": {},
   "source": [
    "# Train Model"
   ]
  },
  {
   "cell_type": "markdown",
   "metadata": {},
   "source": [
    "## Define Embedding Layer"
   ]
  },
  {
   "cell_type": "code",
   "execution_count": 24,
   "metadata": {},
   "outputs": [],
   "source": [
    "embedding_matrix = gen_embedding_matrix(\n",
    "    dct_embedding_index = dct_embedding_index,\n",
    "    embed_label = EMBEDDING, \n",
    "    vocabulary_length = vocab_len, \n",
    "    word_index = word_index\n",
    "    )\n",
    "\n",
    "# Embedding Layer\n",
    "embedding_layer = gen_embedding_layer(\n",
    "    label = EMBEDDING,\n",
    "    input_dimension = vocab_len,\n",
    "    output_dimension_wo_init = 64,\n",
    "    max_length = MAX_LENGTH,\n",
    "    embedding_matrix = embedding_matrix,\n",
    "    trainable = TRAINABLE\n",
    "    )"
   ]
  },
  {
   "cell_type": "markdown",
   "metadata": {},
   "source": [
    "## Compile Model"
   ]
  },
  {
   "cell_type": "code",
   "execution_count": 25,
   "metadata": {},
   "outputs": [
    {
     "name": "stdout",
     "output_type": "stream",
     "text": [
      "Model: \"sequential\"\n",
      "_________________________________________________________________\n",
      "Layer (type)                 Output Shape              Param #   \n",
      "=================================================================\n",
      "text_vectorization (TextVect (None, 50)                0         \n",
      "_________________________________________________________________\n",
      "embeddings_glove (Embedding) (None, 50, 100)           100200    \n",
      "_________________________________________________________________\n",
      "spatial_dropout1d (SpatialDr (None, 50, 100)           0         \n",
      "_________________________________________________________________\n",
      "bidirectional (Bidirectional (None, 50, 64)            34048     \n",
      "_________________________________________________________________\n",
      "bidirectional_1 (Bidirection (None, 50, 256)           197632    \n",
      "_________________________________________________________________\n",
      "time_distributed (TimeDistri (None, 50, 3)             771       \n",
      "=================================================================\n",
      "Total params: 332,651\n",
      "Trainable params: 332,651\n",
      "Non-trainable params: 0\n",
      "_________________________________________________________________\n"
     ]
    }
   ],
   "source": [
    "model = compile_model(\n",
    "    vectorization_layer = vectorization_layer,\n",
    "    embedding_layer = embedding_layer,\n",
    "    dropout = DROPOUT,\n",
    "    dropout_rate = DROPOUT_RATE,\n",
    "    lstm_stack = LSTM_STACK,\n",
    "    hidden_dimension_1 = HIDDEN_DIM_1,\n",
    "    hidden_dimension_2 = HIDDEN_DIM_2,\n",
    "    sample_weights = SAMPLE_WEIGHTS,\n",
    "    time_distributed = TIME_DISTRIBUTED,\n",
    "    optimizer = OPTIMIZER\n",
    ")\n",
    "model.summary()"
   ]
  },
  {
   "cell_type": "markdown",
   "metadata": {},
   "source": [
    "## Define Inputs"
   ]
  },
  {
   "cell_type": "code",
   "execution_count": 26,
   "metadata": {},
   "outputs": [],
   "source": [
    "X_train = np.array(X_train)\n",
    "\n",
    "# Encode targets\n",
    "y_train = encode_target(y_train_val)\n",
    "\n",
    "# Convert target to numpy array for model input\n",
    "y_train = np.array(y_train)"
   ]
  },
  {
   "cell_type": "markdown",
   "metadata": {},
   "source": [
    "## Train Model"
   ]
  },
  {
   "cell_type": "code",
   "execution_count": 27,
   "metadata": {},
   "outputs": [
    {
     "name": "stdout",
     "output_type": "stream",
     "text": [
      "Epoch 1/250\n",
      "12/12 - 15s - loss: 0.3200 - accuracy: 0.5567 - val_loss: 0.2667 - val_accuracy: 0.6178\n",
      "Epoch 2/250\n",
      "12/12 - 2s - loss: 0.2844 - accuracy: 0.6267 - val_loss: 0.2377 - val_accuracy: 0.6658\n",
      "Epoch 3/250\n",
      "12/12 - 2s - loss: 0.2635 - accuracy: 0.6561 - val_loss: 0.2095 - val_accuracy: 0.7294\n",
      "Epoch 4/250\n",
      "12/12 - 2s - loss: 0.2353 - accuracy: 0.7065 - val_loss: 0.1890 - val_accuracy: 0.7547\n",
      "Epoch 5/250\n",
      "12/12 - 2s - loss: 0.2087 - accuracy: 0.7508 - val_loss: 0.1876 - val_accuracy: 0.7709\n",
      "Epoch 6/250\n",
      "12/12 - 2s - loss: 0.2008 - accuracy: 0.7603 - val_loss: 0.1712 - val_accuracy: 0.7807\n",
      "Epoch 7/250\n",
      "12/12 - 2s - loss: 0.1848 - accuracy: 0.7831 - val_loss: 0.1523 - val_accuracy: 0.8079\n",
      "Epoch 8/250\n",
      "12/12 - 2s - loss: 0.1789 - accuracy: 0.7915 - val_loss: 0.1546 - val_accuracy: 0.7982\n",
      "Epoch 9/250\n",
      "12/12 - 2s - loss: 0.1678 - accuracy: 0.8068 - val_loss: 0.1508 - val_accuracy: 0.8144\n",
      "Epoch 10/250\n",
      "12/12 - 2s - loss: 0.1587 - accuracy: 0.8169 - val_loss: 0.1407 - val_accuracy: 0.8209\n",
      "Epoch 11/250\n",
      "12/12 - 2s - loss: 0.1562 - accuracy: 0.8213 - val_loss: 0.1478 - val_accuracy: 0.8293\n",
      "Epoch 12/250\n",
      "12/12 - 2s - loss: 0.1544 - accuracy: 0.8238 - val_loss: 0.1357 - val_accuracy: 0.8306\n",
      "Epoch 13/250\n",
      "12/12 - 2s - loss: 0.1423 - accuracy: 0.8400 - val_loss: 0.1434 - val_accuracy: 0.8352\n",
      "Epoch 14/250\n",
      "12/12 - 2s - loss: 0.1431 - accuracy: 0.8412 - val_loss: 0.1362 - val_accuracy: 0.8469\n",
      "Epoch 15/250\n",
      "12/12 - 2s - loss: 0.1392 - accuracy: 0.8435 - val_loss: 0.1313 - val_accuracy: 0.8404\n",
      "Epoch 16/250\n",
      "12/12 - 2s - loss: 0.1369 - accuracy: 0.8493 - val_loss: 0.1525 - val_accuracy: 0.8021\n",
      "Epoch 17/250\n",
      "12/12 - 2s - loss: 0.1309 - accuracy: 0.8580 - val_loss: 0.1302 - val_accuracy: 0.8397\n",
      "Epoch 18/250\n",
      "12/12 - 2s - loss: 0.1262 - accuracy: 0.8575 - val_loss: 0.1326 - val_accuracy: 0.8507\n",
      "Epoch 19/250\n",
      "12/12 - 2s - loss: 0.1158 - accuracy: 0.8753 - val_loss: 0.1331 - val_accuracy: 0.8482\n",
      "Epoch 20/250\n",
      "12/12 - 2s - loss: 0.1120 - accuracy: 0.8840 - val_loss: 0.1283 - val_accuracy: 0.8579\n",
      "Epoch 21/250\n",
      "12/12 - 2s - loss: 0.1070 - accuracy: 0.8829 - val_loss: 0.1450 - val_accuracy: 0.8391\n",
      "Epoch 22/250\n",
      "12/12 - 2s - loss: 0.1056 - accuracy: 0.8843 - val_loss: 0.1230 - val_accuracy: 0.8592\n",
      "Epoch 23/250\n",
      "12/12 - 2s - loss: 0.1043 - accuracy: 0.8852 - val_loss: 0.1247 - val_accuracy: 0.8618\n",
      "Epoch 24/250\n",
      "12/12 - 2s - loss: 0.0992 - accuracy: 0.8872 - val_loss: 0.1363 - val_accuracy: 0.8449\n",
      "Epoch 25/250\n",
      "12/12 - 2s - loss: 0.0990 - accuracy: 0.8915 - val_loss: 0.1362 - val_accuracy: 0.8436\n",
      "Epoch 26/250\n",
      "12/12 - 2s - loss: 0.0933 - accuracy: 0.8959 - val_loss: 0.1358 - val_accuracy: 0.8488\n",
      "Epoch 27/250\n",
      "12/12 - 2s - loss: 0.0926 - accuracy: 0.8982 - val_loss: 0.1234 - val_accuracy: 0.8631\n",
      "Epoch 28/250\n",
      "12/12 - 2s - loss: 0.0901 - accuracy: 0.9026 - val_loss: 0.1256 - val_accuracy: 0.8559\n",
      "Epoch 29/250\n",
      "12/12 - 2s - loss: 0.0892 - accuracy: 0.9031 - val_loss: 0.1184 - val_accuracy: 0.8559\n",
      "Epoch 30/250\n",
      "12/12 - 2s - loss: 0.0795 - accuracy: 0.9138 - val_loss: 0.1217 - val_accuracy: 0.8657\n",
      "Epoch 31/250\n",
      "12/12 - 2s - loss: 0.0780 - accuracy: 0.9132 - val_loss: 0.1223 - val_accuracy: 0.8715\n",
      "Epoch 32/250\n",
      "12/12 - 2s - loss: 0.0830 - accuracy: 0.9116 - val_loss: 0.1183 - val_accuracy: 0.8689\n",
      "Epoch 33/250\n",
      "12/12 - 2s - loss: 0.0745 - accuracy: 0.9202 - val_loss: 0.1254 - val_accuracy: 0.8618\n",
      "Epoch 34/250\n",
      "12/12 - 2s - loss: 0.0776 - accuracy: 0.9126 - val_loss: 0.1293 - val_accuracy: 0.8637\n",
      "Epoch 35/250\n",
      "12/12 - 2s - loss: 0.0693 - accuracy: 0.9271 - val_loss: 0.1217 - val_accuracy: 0.8637\n",
      "Epoch 36/250\n",
      "12/12 - 2s - loss: 0.0646 - accuracy: 0.9315 - val_loss: 0.1205 - val_accuracy: 0.8741\n",
      "Epoch 37/250\n",
      "12/12 - 2s - loss: 0.0684 - accuracy: 0.9265 - val_loss: 0.1262 - val_accuracy: 0.8689\n",
      "Epoch 38/250\n",
      "12/12 - 2s - loss: 0.0644 - accuracy: 0.9317 - val_loss: 0.1302 - val_accuracy: 0.8702\n",
      "Epoch 39/250\n",
      "12/12 - 2s - loss: 0.0637 - accuracy: 0.9288 - val_loss: 0.1248 - val_accuracy: 0.8702\n",
      "Epoch 40/250\n",
      "12/12 - 2s - loss: 0.0632 - accuracy: 0.9309 - val_loss: 0.1177 - val_accuracy: 0.8787\n",
      "Epoch 41/250\n",
      "12/12 - 2s - loss: 0.0644 - accuracy: 0.9314 - val_loss: 0.1183 - val_accuracy: 0.8728\n",
      "Epoch 42/250\n",
      "12/12 - 2s - loss: 0.0587 - accuracy: 0.9355 - val_loss: 0.1228 - val_accuracy: 0.8741\n",
      "Epoch 43/250\n",
      "12/12 - 2s - loss: 0.0517 - accuracy: 0.9436 - val_loss: 0.1377 - val_accuracy: 0.8644\n",
      "Epoch 44/250\n",
      "12/12 - 2s - loss: 0.0566 - accuracy: 0.9355 - val_loss: 0.1181 - val_accuracy: 0.8709\n",
      "Epoch 45/250\n",
      "12/12 - 2s - loss: 0.0535 - accuracy: 0.9421 - val_loss: 0.1355 - val_accuracy: 0.8735\n",
      "Epoch 46/250\n",
      "12/12 - 2s - loss: 0.0523 - accuracy: 0.9396 - val_loss: 0.1245 - val_accuracy: 0.8702\n",
      "Epoch 47/250\n",
      "12/12 - 2s - loss: 0.0534 - accuracy: 0.9425 - val_loss: 0.1136 - val_accuracy: 0.8819\n",
      "Epoch 48/250\n",
      "12/12 - 2s - loss: 0.0477 - accuracy: 0.9500 - val_loss: 0.1272 - val_accuracy: 0.8696\n",
      "Epoch 49/250\n",
      "12/12 - 2s - loss: 0.0485 - accuracy: 0.9477 - val_loss: 0.1287 - val_accuracy: 0.8735\n",
      "Epoch 50/250\n",
      "12/12 - 2s - loss: 0.0504 - accuracy: 0.9450 - val_loss: 0.1162 - val_accuracy: 0.8793\n",
      "Epoch 51/250\n",
      "12/12 - 2s - loss: 0.0462 - accuracy: 0.9479 - val_loss: 0.1432 - val_accuracy: 0.8683\n",
      "Epoch 52/250\n",
      "12/12 - 2s - loss: 0.0436 - accuracy: 0.9543 - val_loss: 0.1350 - val_accuracy: 0.8780\n",
      "Epoch 53/250\n",
      "12/12 - 2s - loss: 0.0479 - accuracy: 0.9467 - val_loss: 0.1559 - val_accuracy: 0.8689\n",
      "Epoch 54/250\n",
      "12/12 - 2s - loss: 0.0424 - accuracy: 0.9551 - val_loss: 0.1390 - val_accuracy: 0.8722\n",
      "Epoch 55/250\n",
      "12/12 - 2s - loss: 0.0403 - accuracy: 0.9566 - val_loss: 0.1380 - val_accuracy: 0.8715\n",
      "Epoch 56/250\n",
      "12/12 - 2s - loss: 0.0426 - accuracy: 0.9531 - val_loss: 0.1445 - val_accuracy: 0.8715\n",
      "Epoch 57/250\n",
      "12/12 - 2s - loss: 0.0395 - accuracy: 0.9558 - val_loss: 0.1426 - val_accuracy: 0.8774\n",
      "Epoch 58/250\n",
      "12/12 - 2s - loss: 0.0437 - accuracy: 0.9499 - val_loss: 0.1415 - val_accuracy: 0.8825\n",
      "Epoch 59/250\n",
      "12/12 - 2s - loss: 0.0406 - accuracy: 0.9558 - val_loss: 0.1334 - val_accuracy: 0.8696\n",
      "Epoch 60/250\n",
      "12/12 - 2s - loss: 0.0403 - accuracy: 0.9567 - val_loss: 0.1468 - val_accuracy: 0.8624\n",
      "Epoch 61/250\n",
      "12/12 - 2s - loss: 0.0354 - accuracy: 0.9633 - val_loss: 0.1410 - val_accuracy: 0.8715\n",
      "Epoch 62/250\n",
      "12/12 - 2s - loss: 0.0355 - accuracy: 0.9610 - val_loss: 0.1349 - val_accuracy: 0.8851\n",
      "Epoch 63/250\n",
      "12/12 - 2s - loss: 0.0343 - accuracy: 0.9612 - val_loss: 0.1322 - val_accuracy: 0.8845\n",
      "Epoch 64/250\n",
      "12/12 - 2s - loss: 0.0341 - accuracy: 0.9610 - val_loss: 0.1721 - val_accuracy: 0.8637\n",
      "Epoch 65/250\n",
      "12/12 - 2s - loss: 0.0325 - accuracy: 0.9635 - val_loss: 0.1411 - val_accuracy: 0.8754\n",
      "Epoch 66/250\n",
      "12/12 - 2s - loss: 0.0396 - accuracy: 0.9590 - val_loss: 0.1276 - val_accuracy: 0.8793\n",
      "Epoch 67/250\n",
      "12/12 - 2s - loss: 0.0351 - accuracy: 0.9600 - val_loss: 0.1208 - val_accuracy: 0.8774\n",
      "Epoch 68/250\n",
      "12/12 - 2s - loss: 0.0283 - accuracy: 0.9693 - val_loss: 0.1374 - val_accuracy: 0.8774\n",
      "Epoch 69/250\n",
      "12/12 - 2s - loss: 0.0335 - accuracy: 0.9632 - val_loss: 0.1459 - val_accuracy: 0.8728\n",
      "Epoch 70/250\n",
      "12/12 - 2s - loss: 0.0308 - accuracy: 0.9671 - val_loss: 0.1412 - val_accuracy: 0.8754\n",
      "Epoch 71/250\n",
      "12/12 - 2s - loss: 0.0290 - accuracy: 0.9670 - val_loss: 0.1330 - val_accuracy: 0.8799\n",
      "Epoch 72/250\n",
      "12/12 - 2s - loss: 0.0292 - accuracy: 0.9662 - val_loss: 0.1391 - val_accuracy: 0.8754\n",
      "Epoch 73/250\n",
      "12/12 - 2s - loss: 0.0289 - accuracy: 0.9690 - val_loss: 0.1415 - val_accuracy: 0.8624\n",
      "Epoch 74/250\n",
      "12/12 - 2s - loss: 0.0315 - accuracy: 0.9642 - val_loss: 0.1390 - val_accuracy: 0.8819\n",
      "Epoch 75/250\n",
      "12/12 - 2s - loss: 0.0253 - accuracy: 0.9711 - val_loss: 0.1379 - val_accuracy: 0.8897\n",
      "Epoch 76/250\n",
      "12/12 - 2s - loss: 0.0252 - accuracy: 0.9725 - val_loss: 0.1523 - val_accuracy: 0.8780\n",
      "Epoch 77/250\n",
      "12/12 - 2s - loss: 0.0277 - accuracy: 0.9679 - val_loss: 0.1518 - val_accuracy: 0.8741\n",
      "Epoch 78/250\n",
      "12/12 - 2s - loss: 0.0239 - accuracy: 0.9729 - val_loss: 0.1668 - val_accuracy: 0.8657\n",
      "Epoch 79/250\n",
      "12/12 - 2s - loss: 0.0256 - accuracy: 0.9710 - val_loss: 0.1515 - val_accuracy: 0.8754\n",
      "Epoch 80/250\n",
      "12/12 - 2s - loss: 0.0231 - accuracy: 0.9755 - val_loss: 0.1514 - val_accuracy: 0.8754\n",
      "Epoch 81/250\n",
      "12/12 - 2s - loss: 0.0266 - accuracy: 0.9714 - val_loss: 0.1570 - val_accuracy: 0.8735\n",
      "Epoch 82/250\n",
      "12/12 - 2s - loss: 0.0235 - accuracy: 0.9740 - val_loss: 0.1575 - val_accuracy: 0.8709\n",
      "Epoch 83/250\n",
      "12/12 - 2s - loss: 0.0216 - accuracy: 0.9763 - val_loss: 0.1887 - val_accuracy: 0.8663\n",
      "Epoch 84/250\n",
      "12/12 - 2s - loss: 0.0213 - accuracy: 0.9768 - val_loss: 0.1628 - val_accuracy: 0.8741\n",
      "Epoch 85/250\n",
      "12/12 - 2s - loss: 0.0232 - accuracy: 0.9703 - val_loss: 0.1687 - val_accuracy: 0.8748\n",
      "Epoch 86/250\n",
      "12/12 - 2s - loss: 0.0237 - accuracy: 0.9758 - val_loss: 0.1712 - val_accuracy: 0.8728\n",
      "Epoch 87/250\n",
      "12/12 - 2s - loss: 0.0202 - accuracy: 0.9774 - val_loss: 0.1816 - val_accuracy: 0.8689\n",
      "Epoch 88/250\n",
      "12/12 - 2s - loss: 0.0203 - accuracy: 0.9780 - val_loss: 0.1760 - val_accuracy: 0.8644\n",
      "Epoch 89/250\n",
      "12/12 - 2s - loss: 0.0190 - accuracy: 0.9797 - val_loss: 0.1659 - val_accuracy: 0.8709\n",
      "Epoch 90/250\n",
      "12/12 - 2s - loss: 0.0202 - accuracy: 0.9760 - val_loss: 0.1613 - val_accuracy: 0.8728\n",
      "Epoch 91/250\n",
      "12/12 - 2s - loss: 0.0198 - accuracy: 0.9768 - val_loss: 0.1670 - val_accuracy: 0.8812\n",
      "Epoch 92/250\n",
      "12/12 - 2s - loss: 0.0189 - accuracy: 0.9789 - val_loss: 0.1727 - val_accuracy: 0.8728\n",
      "Epoch 93/250\n",
      "12/12 - 2s - loss: 0.0186 - accuracy: 0.9777 - val_loss: 0.1688 - val_accuracy: 0.8838\n",
      "Epoch 94/250\n",
      "12/12 - 2s - loss: 0.0187 - accuracy: 0.9797 - val_loss: 0.1894 - val_accuracy: 0.8689\n",
      "Epoch 95/250\n",
      "12/12 - 2s - loss: 0.0187 - accuracy: 0.9777 - val_loss: 0.1580 - val_accuracy: 0.8832\n",
      "Epoch 96/250\n",
      "12/12 - 2s - loss: 0.0167 - accuracy: 0.9818 - val_loss: 0.1512 - val_accuracy: 0.8923\n",
      "Epoch 97/250\n",
      "12/12 - 2s - loss: 0.0153 - accuracy: 0.9823 - val_loss: 0.1611 - val_accuracy: 0.8761\n",
      "Epoch 98/250\n",
      "12/12 - 2s - loss: 0.0205 - accuracy: 0.9800 - val_loss: 0.1466 - val_accuracy: 0.8838\n",
      "Epoch 99/250\n",
      "12/12 - 2s - loss: 0.0174 - accuracy: 0.9792 - val_loss: 0.1705 - val_accuracy: 0.8819\n",
      "Epoch 100/250\n",
      "12/12 - 2s - loss: 0.0182 - accuracy: 0.9788 - val_loss: 0.1577 - val_accuracy: 0.8910\n",
      "Epoch 101/250\n",
      "12/12 - 2s - loss: 0.0171 - accuracy: 0.9814 - val_loss: 0.1720 - val_accuracy: 0.8819\n",
      "Epoch 102/250\n",
      "12/12 - 2s - loss: 0.0142 - accuracy: 0.9843 - val_loss: 0.1665 - val_accuracy: 0.8864\n",
      "Epoch 103/250\n",
      "12/12 - 2s - loss: 0.0159 - accuracy: 0.9821 - val_loss: 0.1718 - val_accuracy: 0.8832\n",
      "Epoch 104/250\n",
      "12/12 - 2s - loss: 0.0159 - accuracy: 0.9807 - val_loss: 0.1725 - val_accuracy: 0.8793\n",
      "Epoch 105/250\n",
      "12/12 - 2s - loss: 0.0177 - accuracy: 0.9795 - val_loss: 0.1697 - val_accuracy: 0.8819\n",
      "Epoch 106/250\n",
      "12/12 - 2s - loss: 0.0135 - accuracy: 0.9862 - val_loss: 0.1667 - val_accuracy: 0.8845\n",
      "Epoch 107/250\n",
      "12/12 - 2s - loss: 0.0136 - accuracy: 0.9843 - val_loss: 0.1677 - val_accuracy: 0.8793\n",
      "Epoch 108/250\n",
      "12/12 - 2s - loss: 0.0152 - accuracy: 0.9820 - val_loss: 0.1617 - val_accuracy: 0.8845\n",
      "Epoch 109/250\n",
      "12/12 - 2s - loss: 0.0165 - accuracy: 0.9780 - val_loss: 0.1561 - val_accuracy: 0.8812\n",
      "Epoch 110/250\n",
      "12/12 - 2s - loss: 0.0131 - accuracy: 0.9847 - val_loss: 0.1730 - val_accuracy: 0.8793\n",
      "Epoch 111/250\n",
      "12/12 - 2s - loss: 0.0123 - accuracy: 0.9856 - val_loss: 0.1693 - val_accuracy: 0.8871\n",
      "Epoch 112/250\n",
      "12/12 - 2s - loss: 0.0141 - accuracy: 0.9817 - val_loss: 0.1595 - val_accuracy: 0.8877\n",
      "Epoch 113/250\n",
      "12/12 - 2s - loss: 0.0150 - accuracy: 0.9833 - val_loss: 0.1700 - val_accuracy: 0.8832\n",
      "Epoch 114/250\n",
      "12/12 - 2s - loss: 0.0141 - accuracy: 0.9821 - val_loss: 0.1700 - val_accuracy: 0.8832\n",
      "Epoch 115/250\n",
      "12/12 - 2s - loss: 0.0138 - accuracy: 0.9841 - val_loss: 0.1722 - val_accuracy: 0.8780\n",
      "Epoch 116/250\n",
      "12/12 - 2s - loss: 0.0117 - accuracy: 0.9865 - val_loss: 0.1768 - val_accuracy: 0.8787\n",
      "Epoch 117/250\n",
      "12/12 - 2s - loss: 0.0124 - accuracy: 0.9869 - val_loss: 0.1799 - val_accuracy: 0.8767\n",
      "Epoch 118/250\n",
      "12/12 - 2s - loss: 0.0108 - accuracy: 0.9881 - val_loss: 0.1925 - val_accuracy: 0.8812\n",
      "Epoch 119/250\n",
      "12/12 - 2s - loss: 0.0116 - accuracy: 0.9856 - val_loss: 0.1940 - val_accuracy: 0.8774\n",
      "Epoch 120/250\n",
      "12/12 - 2s - loss: 0.0115 - accuracy: 0.9852 - val_loss: 0.1903 - val_accuracy: 0.8754\n",
      "Epoch 121/250\n",
      "12/12 - 2s - loss: 0.0135 - accuracy: 0.9846 - val_loss: 0.1710 - val_accuracy: 0.8832\n",
      "Epoch 122/250\n",
      "12/12 - 2s - loss: 0.0100 - accuracy: 0.9885 - val_loss: 0.1801 - val_accuracy: 0.8832\n",
      "Epoch 123/250\n",
      "12/12 - 2s - loss: 0.0136 - accuracy: 0.9838 - val_loss: 0.1891 - val_accuracy: 0.8728\n",
      "Epoch 124/250\n",
      "12/12 - 2s - loss: 0.0121 - accuracy: 0.9847 - val_loss: 0.1886 - val_accuracy: 0.8761\n",
      "Epoch 125/250\n",
      "12/12 - 2s - loss: 0.0122 - accuracy: 0.9850 - val_loss: 0.1938 - val_accuracy: 0.8793\n",
      "Epoch 126/250\n",
      "12/12 - 2s - loss: 0.0145 - accuracy: 0.9855 - val_loss: 0.1733 - val_accuracy: 0.8832\n",
      "Epoch 127/250\n",
      "12/12 - 2s - loss: 0.0129 - accuracy: 0.9838 - val_loss: 0.1781 - val_accuracy: 0.8819\n",
      "Epoch 128/250\n",
      "12/12 - 2s - loss: 0.0091 - accuracy: 0.9887 - val_loss: 0.1832 - val_accuracy: 0.8832\n",
      "Epoch 129/250\n",
      "12/12 - 2s - loss: 0.0112 - accuracy: 0.9850 - val_loss: 0.1772 - val_accuracy: 0.8819\n",
      "Epoch 130/250\n",
      "12/12 - 2s - loss: 0.0099 - accuracy: 0.9876 - val_loss: 0.1849 - val_accuracy: 0.8825\n",
      "Epoch 131/250\n",
      "12/12 - 2s - loss: 0.0116 - accuracy: 0.9887 - val_loss: 0.1969 - val_accuracy: 0.8761\n",
      "Epoch 132/250\n",
      "12/12 - 2s - loss: 0.0153 - accuracy: 0.9861 - val_loss: 0.1903 - val_accuracy: 0.8838\n",
      "Epoch 133/250\n",
      "12/12 - 2s - loss: 0.0107 - accuracy: 0.9865 - val_loss: 0.1877 - val_accuracy: 0.8825\n",
      "Epoch 134/250\n",
      "12/12 - 2s - loss: 0.0101 - accuracy: 0.9872 - val_loss: 0.1852 - val_accuracy: 0.8799\n",
      "Epoch 135/250\n",
      "12/12 - 2s - loss: 0.0097 - accuracy: 0.9893 - val_loss: 0.1899 - val_accuracy: 0.8722\n",
      "Epoch 136/250\n",
      "12/12 - 2s - loss: 0.0081 - accuracy: 0.9907 - val_loss: 0.1880 - val_accuracy: 0.8748\n",
      "Epoch 137/250\n",
      "12/12 - 2s - loss: 0.0109 - accuracy: 0.9891 - val_loss: 0.1883 - val_accuracy: 0.8767\n",
      "Epoch 138/250\n",
      "12/12 - 2s - loss: 0.0091 - accuracy: 0.9872 - val_loss: 0.1921 - val_accuracy: 0.8812\n",
      "Epoch 139/250\n",
      "12/12 - 2s - loss: 0.0085 - accuracy: 0.9882 - val_loss: 0.1930 - val_accuracy: 0.8864\n",
      "Epoch 140/250\n",
      "12/12 - 2s - loss: 0.0123 - accuracy: 0.9867 - val_loss: 0.1797 - val_accuracy: 0.8793\n",
      "Epoch 141/250\n",
      "12/12 - 2s - loss: 0.0089 - accuracy: 0.9888 - val_loss: 0.1852 - val_accuracy: 0.8838\n",
      "Epoch 142/250\n",
      "12/12 - 2s - loss: 0.0069 - accuracy: 0.9922 - val_loss: 0.1821 - val_accuracy: 0.8923\n",
      "Epoch 143/250\n",
      "12/12 - 2s - loss: 0.0098 - accuracy: 0.9873 - val_loss: 0.1849 - val_accuracy: 0.8838\n",
      "Epoch 144/250\n",
      "12/12 - 2s - loss: 0.0090 - accuracy: 0.9885 - val_loss: 0.1869 - val_accuracy: 0.8825\n",
      "Epoch 145/250\n",
      "12/12 - 2s - loss: 0.0092 - accuracy: 0.9881 - val_loss: 0.1915 - val_accuracy: 0.8812\n",
      "Epoch 146/250\n",
      "12/12 - 2s - loss: 0.0085 - accuracy: 0.9888 - val_loss: 0.2103 - val_accuracy: 0.8735\n",
      "Epoch 147/250\n",
      "12/12 - 2s - loss: 0.0078 - accuracy: 0.9911 - val_loss: 0.1814 - val_accuracy: 0.8942\n",
      "Epoch 148/250\n",
      "12/12 - 2s - loss: 0.0082 - accuracy: 0.9908 - val_loss: 0.1960 - val_accuracy: 0.8910\n",
      "Epoch 149/250\n",
      "12/12 - 2s - loss: 0.0091 - accuracy: 0.9895 - val_loss: 0.1979 - val_accuracy: 0.8858\n",
      "Epoch 150/250\n",
      "12/12 - 2s - loss: 0.0084 - accuracy: 0.9884 - val_loss: 0.1979 - val_accuracy: 0.8825\n",
      "Epoch 151/250\n",
      "12/12 - 2s - loss: 0.0086 - accuracy: 0.9884 - val_loss: 0.2046 - val_accuracy: 0.8767\n",
      "Epoch 152/250\n",
      "12/12 - 2s - loss: 0.0077 - accuracy: 0.9904 - val_loss: 0.1960 - val_accuracy: 0.8825\n",
      "Epoch 153/250\n",
      "12/12 - 2s - loss: 0.0083 - accuracy: 0.9901 - val_loss: 0.1903 - val_accuracy: 0.8838\n",
      "Epoch 154/250\n",
      "12/12 - 2s - loss: 0.0079 - accuracy: 0.9896 - val_loss: 0.1975 - val_accuracy: 0.8825\n",
      "Epoch 155/250\n",
      "12/12 - 2s - loss: 0.0082 - accuracy: 0.9890 - val_loss: 0.1916 - val_accuracy: 0.8877\n",
      "Epoch 156/250\n",
      "12/12 - 2s - loss: 0.0079 - accuracy: 0.9902 - val_loss: 0.1839 - val_accuracy: 0.8910\n",
      "Epoch 157/250\n",
      "12/12 - 2s - loss: 0.0086 - accuracy: 0.9893 - val_loss: 0.2005 - val_accuracy: 0.8799\n",
      "Epoch 158/250\n",
      "12/12 - 2s - loss: 0.0077 - accuracy: 0.9902 - val_loss: 0.1937 - val_accuracy: 0.8871\n",
      "Epoch 159/250\n",
      "12/12 - 2s - loss: 0.0086 - accuracy: 0.9888 - val_loss: 0.2037 - val_accuracy: 0.8825\n",
      "Epoch 160/250\n",
      "12/12 - 2s - loss: 0.0093 - accuracy: 0.9876 - val_loss: 0.1977 - val_accuracy: 0.8832\n",
      "Epoch 161/250\n",
      "12/12 - 2s - loss: 0.0080 - accuracy: 0.9911 - val_loss: 0.1979 - val_accuracy: 0.8858\n",
      "Epoch 162/250\n",
      "12/12 - 2s - loss: 0.0080 - accuracy: 0.9902 - val_loss: 0.1857 - val_accuracy: 0.8923\n",
      "Epoch 163/250\n",
      "12/12 - 2s - loss: 0.0068 - accuracy: 0.9910 - val_loss: 0.1959 - val_accuracy: 0.8845\n",
      "Epoch 164/250\n",
      "12/12 - 2s - loss: 0.0065 - accuracy: 0.9907 - val_loss: 0.2048 - val_accuracy: 0.8819\n",
      "Epoch 165/250\n",
      "12/12 - 2s - loss: 0.0082 - accuracy: 0.9908 - val_loss: 0.1921 - val_accuracy: 0.8884\n",
      "Epoch 166/250\n",
      "12/12 - 2s - loss: 0.0076 - accuracy: 0.9893 - val_loss: 0.2123 - val_accuracy: 0.8799\n",
      "Epoch 167/250\n",
      "12/12 - 2s - loss: 0.0085 - accuracy: 0.9901 - val_loss: 0.2113 - val_accuracy: 0.8832\n",
      "Epoch 168/250\n",
      "12/12 - 2s - loss: 0.0078 - accuracy: 0.9895 - val_loss: 0.2083 - val_accuracy: 0.8793\n",
      "Epoch 169/250\n",
      "12/12 - 2s - loss: 0.0080 - accuracy: 0.9901 - val_loss: 0.2072 - val_accuracy: 0.8864\n",
      "Epoch 170/250\n",
      "12/12 - 2s - loss: 0.0058 - accuracy: 0.9924 - val_loss: 0.2059 - val_accuracy: 0.8877\n",
      "Epoch 171/250\n",
      "12/12 - 2s - loss: 0.0088 - accuracy: 0.9895 - val_loss: 0.2184 - val_accuracy: 0.8787\n",
      "Epoch 172/250\n",
      "12/12 - 2s - loss: 0.0066 - accuracy: 0.9911 - val_loss: 0.2109 - val_accuracy: 0.8819\n",
      "Epoch 173/250\n",
      "12/12 - 2s - loss: 0.0072 - accuracy: 0.9908 - val_loss: 0.1909 - val_accuracy: 0.8968\n",
      "Epoch 174/250\n",
      "12/12 - 2s - loss: 0.0062 - accuracy: 0.9922 - val_loss: 0.2009 - val_accuracy: 0.8858\n",
      "Epoch 175/250\n",
      "12/12 - 2s - loss: 0.0065 - accuracy: 0.9921 - val_loss: 0.2142 - val_accuracy: 0.8787\n",
      "Epoch 176/250\n",
      "12/12 - 2s - loss: 0.0063 - accuracy: 0.9927 - val_loss: 0.2165 - val_accuracy: 0.8825\n",
      "Epoch 177/250\n",
      "12/12 - 2s - loss: 0.0062 - accuracy: 0.9905 - val_loss: 0.2038 - val_accuracy: 0.8838\n",
      "Epoch 178/250\n",
      "12/12 - 2s - loss: 0.0064 - accuracy: 0.9914 - val_loss: 0.2134 - val_accuracy: 0.8832\n",
      "Epoch 179/250\n",
      "12/12 - 2s - loss: 0.0059 - accuracy: 0.9931 - val_loss: 0.2210 - val_accuracy: 0.8819\n",
      "Epoch 180/250\n",
      "12/12 - 2s - loss: 0.0061 - accuracy: 0.9917 - val_loss: 0.2077 - val_accuracy: 0.8845\n",
      "Epoch 181/250\n",
      "12/12 - 2s - loss: 0.0062 - accuracy: 0.9928 - val_loss: 0.2030 - val_accuracy: 0.8929\n",
      "Epoch 182/250\n",
      "12/12 - 2s - loss: 0.0061 - accuracy: 0.9928 - val_loss: 0.2128 - val_accuracy: 0.8877\n",
      "Epoch 183/250\n",
      "12/12 - 2s - loss: 0.0061 - accuracy: 0.9911 - val_loss: 0.2274 - val_accuracy: 0.8884\n",
      "Epoch 184/250\n",
      "12/12 - 2s - loss: 0.0063 - accuracy: 0.9917 - val_loss: 0.2189 - val_accuracy: 0.8787\n",
      "Epoch 185/250\n",
      "12/12 - 2s - loss: 0.0059 - accuracy: 0.9916 - val_loss: 0.2080 - val_accuracy: 0.8845\n",
      "Epoch 186/250\n",
      "12/12 - 2s - loss: 0.0069 - accuracy: 0.9921 - val_loss: 0.2097 - val_accuracy: 0.8787\n",
      "Epoch 187/250\n",
      "12/12 - 2s - loss: 0.0052 - accuracy: 0.9910 - val_loss: 0.2119 - val_accuracy: 0.8884\n",
      "Epoch 188/250\n",
      "12/12 - 2s - loss: 0.0061 - accuracy: 0.9919 - val_loss: 0.2111 - val_accuracy: 0.8851\n",
      "Epoch 189/250\n",
      "12/12 - 2s - loss: 0.0054 - accuracy: 0.9922 - val_loss: 0.2277 - val_accuracy: 0.8851\n",
      "Epoch 190/250\n",
      "12/12 - 2s - loss: 0.0073 - accuracy: 0.9916 - val_loss: 0.2163 - val_accuracy: 0.8864\n",
      "Epoch 191/250\n",
      "12/12 - 2s - loss: 0.0059 - accuracy: 0.9921 - val_loss: 0.2122 - val_accuracy: 0.8819\n",
      "Epoch 192/250\n",
      "12/12 - 2s - loss: 0.0058 - accuracy: 0.9928 - val_loss: 0.2385 - val_accuracy: 0.8702\n",
      "Epoch 193/250\n",
      "12/12 - 2s - loss: 0.0067 - accuracy: 0.9910 - val_loss: 0.2264 - val_accuracy: 0.8812\n",
      "Epoch 194/250\n",
      "12/12 - 2s - loss: 0.0061 - accuracy: 0.9919 - val_loss: 0.2406 - val_accuracy: 0.8761\n",
      "Epoch 195/250\n",
      "12/12 - 2s - loss: 0.0061 - accuracy: 0.9904 - val_loss: 0.2243 - val_accuracy: 0.8806\n",
      "Epoch 196/250\n",
      "12/12 - 2s - loss: 0.0065 - accuracy: 0.9896 - val_loss: 0.2211 - val_accuracy: 0.8832\n",
      "Epoch 197/250\n",
      "12/12 - 2s - loss: 0.0070 - accuracy: 0.9908 - val_loss: 0.2190 - val_accuracy: 0.8858\n",
      "Epoch 198/250\n",
      "12/12 - 2s - loss: 0.0064 - accuracy: 0.9916 - val_loss: 0.2241 - val_accuracy: 0.8825\n",
      "Epoch 199/250\n",
      "12/12 - 2s - loss: 0.0059 - accuracy: 0.9919 - val_loss: 0.2269 - val_accuracy: 0.8812\n",
      "Epoch 200/250\n",
      "12/12 - 2s - loss: 0.0056 - accuracy: 0.9925 - val_loss: 0.2453 - val_accuracy: 0.8806\n",
      "Epoch 201/250\n",
      "12/12 - 2s - loss: 0.0050 - accuracy: 0.9921 - val_loss: 0.2302 - val_accuracy: 0.8825\n",
      "Epoch 202/250\n",
      "12/12 - 2s - loss: 0.0067 - accuracy: 0.9904 - val_loss: 0.2273 - val_accuracy: 0.8838\n",
      "Epoch 203/250\n",
      "12/12 - 2s - loss: 0.0058 - accuracy: 0.9921 - val_loss: 0.2381 - val_accuracy: 0.8799\n",
      "Epoch 204/250\n",
      "12/12 - 2s - loss: 0.0057 - accuracy: 0.9917 - val_loss: 0.2266 - val_accuracy: 0.8787\n",
      "Epoch 205/250\n",
      "12/12 - 2s - loss: 0.0055 - accuracy: 0.9913 - val_loss: 0.2208 - val_accuracy: 0.8799\n",
      "Epoch 206/250\n",
      "12/12 - 2s - loss: 0.0050 - accuracy: 0.9928 - val_loss: 0.2233 - val_accuracy: 0.8825\n",
      "Epoch 207/250\n",
      "12/12 - 2s - loss: 0.0053 - accuracy: 0.9924 - val_loss: 0.2195 - val_accuracy: 0.8864\n",
      "Epoch 208/250\n",
      "12/12 - 2s - loss: 0.0060 - accuracy: 0.9899 - val_loss: 0.2308 - val_accuracy: 0.8806\n",
      "Epoch 209/250\n",
      "12/12 - 2s - loss: 0.0061 - accuracy: 0.9907 - val_loss: 0.2201 - val_accuracy: 0.8871\n",
      "Epoch 210/250\n",
      "12/12 - 2s - loss: 0.0047 - accuracy: 0.9937 - val_loss: 0.2303 - val_accuracy: 0.8858\n",
      "Epoch 211/250\n",
      "12/12 - 2s - loss: 0.0056 - accuracy: 0.9917 - val_loss: 0.2322 - val_accuracy: 0.8838\n",
      "Epoch 212/250\n",
      "12/12 - 2s - loss: 0.0053 - accuracy: 0.9924 - val_loss: 0.2368 - val_accuracy: 0.8812\n",
      "Epoch 213/250\n",
      "12/12 - 2s - loss: 0.0054 - accuracy: 0.9914 - val_loss: 0.2348 - val_accuracy: 0.8812\n",
      "Epoch 214/250\n",
      "12/12 - 2s - loss: 0.0053 - accuracy: 0.9925 - val_loss: 0.2237 - val_accuracy: 0.8858\n",
      "Epoch 215/250\n",
      "12/12 - 2s - loss: 0.0054 - accuracy: 0.9908 - val_loss: 0.2365 - val_accuracy: 0.8767\n",
      "Epoch 216/250\n",
      "12/12 - 2s - loss: 0.0057 - accuracy: 0.9922 - val_loss: 0.2244 - val_accuracy: 0.8890\n",
      "Epoch 217/250\n",
      "12/12 - 2s - loss: 0.0047 - accuracy: 0.9927 - val_loss: 0.2207 - val_accuracy: 0.8916\n",
      "Epoch 218/250\n",
      "12/12 - 2s - loss: 0.0052 - accuracy: 0.9902 - val_loss: 0.2144 - val_accuracy: 0.8864\n",
      "Epoch 219/250\n",
      "12/12 - 2s - loss: 0.0053 - accuracy: 0.9907 - val_loss: 0.2281 - val_accuracy: 0.8832\n",
      "Epoch 220/250\n",
      "12/12 - 2s - loss: 0.0049 - accuracy: 0.9930 - val_loss: 0.2325 - val_accuracy: 0.8774\n",
      "Epoch 221/250\n",
      "12/12 - 2s - loss: 0.0052 - accuracy: 0.9925 - val_loss: 0.2239 - val_accuracy: 0.8806\n",
      "Epoch 222/250\n",
      "12/12 - 2s - loss: 0.0058 - accuracy: 0.9936 - val_loss: 0.2107 - val_accuracy: 0.8962\n",
      "Epoch 223/250\n",
      "12/12 - 2s - loss: 0.0057 - accuracy: 0.9924 - val_loss: 0.2097 - val_accuracy: 0.8955\n",
      "Epoch 224/250\n",
      "12/12 - 2s - loss: 0.0048 - accuracy: 0.9930 - val_loss: 0.2059 - val_accuracy: 0.8975\n",
      "Epoch 225/250\n",
      "12/12 - 2s - loss: 0.0062 - accuracy: 0.9910 - val_loss: 0.2152 - val_accuracy: 0.8903\n",
      "Epoch 226/250\n",
      "12/12 - 2s - loss: 0.0050 - accuracy: 0.9930 - val_loss: 0.2179 - val_accuracy: 0.8871\n",
      "Epoch 227/250\n",
      "12/12 - 2s - loss: 0.0045 - accuracy: 0.9930 - val_loss: 0.2294 - val_accuracy: 0.8851\n",
      "Epoch 228/250\n",
      "12/12 - 2s - loss: 0.0058 - accuracy: 0.9914 - val_loss: 0.2291 - val_accuracy: 0.8871\n",
      "Epoch 229/250\n",
      "12/12 - 2s - loss: 0.0042 - accuracy: 0.9950 - val_loss: 0.2202 - val_accuracy: 0.8864\n",
      "Epoch 230/250\n",
      "12/12 - 2s - loss: 0.0066 - accuracy: 0.9911 - val_loss: 0.2187 - val_accuracy: 0.8903\n",
      "Epoch 231/250\n",
      "12/12 - 2s - loss: 0.0053 - accuracy: 0.9925 - val_loss: 0.2257 - val_accuracy: 0.8851\n",
      "Epoch 232/250\n",
      "12/12 - 2s - loss: 0.0047 - accuracy: 0.9928 - val_loss: 0.2232 - val_accuracy: 0.8884\n",
      "Epoch 233/250\n",
      "12/12 - 2s - loss: 0.0050 - accuracy: 0.9921 - val_loss: 0.2200 - val_accuracy: 0.8942\n",
      "Epoch 234/250\n",
      "12/12 - 2s - loss: 0.0050 - accuracy: 0.9927 - val_loss: 0.2146 - val_accuracy: 0.8910\n",
      "Epoch 235/250\n",
      "12/12 - 2s - loss: 0.0051 - accuracy: 0.9925 - val_loss: 0.2198 - val_accuracy: 0.8871\n",
      "Epoch 236/250\n",
      "12/12 - 2s - loss: 0.0047 - accuracy: 0.9933 - val_loss: 0.1996 - val_accuracy: 0.8955\n",
      "Epoch 237/250\n",
      "12/12 - 2s - loss: 0.0047 - accuracy: 0.9917 - val_loss: 0.2157 - val_accuracy: 0.8864\n",
      "Epoch 238/250\n",
      "12/12 - 2s - loss: 0.0058 - accuracy: 0.9919 - val_loss: 0.2088 - val_accuracy: 0.8923\n",
      "Epoch 239/250\n",
      "12/12 - 2s - loss: 0.0046 - accuracy: 0.9934 - val_loss: 0.2121 - val_accuracy: 0.8949\n",
      "Epoch 240/250\n",
      "12/12 - 2s - loss: 0.0047 - accuracy: 0.9934 - val_loss: 0.2183 - val_accuracy: 0.8858\n",
      "Epoch 241/250\n",
      "12/12 - 2s - loss: 0.0056 - accuracy: 0.9921 - val_loss: 0.2149 - val_accuracy: 0.8929\n",
      "Epoch 242/250\n",
      "12/12 - 2s - loss: 0.0048 - accuracy: 0.9934 - val_loss: 0.2159 - val_accuracy: 0.8910\n",
      "Epoch 243/250\n",
      "12/12 - 2s - loss: 0.0041 - accuracy: 0.9937 - val_loss: 0.2204 - val_accuracy: 0.8884\n",
      "Epoch 244/250\n",
      "12/12 - 2s - loss: 0.0047 - accuracy: 0.9933 - val_loss: 0.2166 - val_accuracy: 0.8897\n",
      "Epoch 245/250\n",
      "12/12 - 2s - loss: 0.0044 - accuracy: 0.9916 - val_loss: 0.2207 - val_accuracy: 0.8871\n",
      "Epoch 246/250\n",
      "12/12 - 2s - loss: 0.0041 - accuracy: 0.9931 - val_loss: 0.2312 - val_accuracy: 0.8832\n",
      "Epoch 247/250\n",
      "12/12 - 2s - loss: 0.0052 - accuracy: 0.9919 - val_loss: 0.2090 - val_accuracy: 0.8916\n",
      "Epoch 248/250\n",
      "12/12 - 2s - loss: 0.0050 - accuracy: 0.9924 - val_loss: 0.2061 - val_accuracy: 0.8916\n",
      "Epoch 249/250\n",
      "12/12 - 2s - loss: 0.0046 - accuracy: 0.9908 - val_loss: 0.2160 - val_accuracy: 0.8851\n",
      "Epoch 250/250\n",
      "12/12 - 2s - loss: 0.0047 - accuracy: 0.9936 - val_loss: 0.2107 - val_accuracy: 0.8871\n"
     ]
    }
   ],
   "source": [
    "if SAMPLE_WEIGHTS: \n",
    "    history = model.fit(\n",
    "                        X_train, y_train, \n",
    "                        batch_size=BATCH_SIZE, \n",
    "                        epochs=EPOCHS, \n",
    "                        validation_split=0.2, \n",
    "                        sample_weight=sample_weight_matrix,\n",
    "                        verbose=2\n",
    "                        )\n",
    "else: \n",
    "    history = model.fit(\n",
    "                        X_train, y_train, \n",
    "                        batch_size=BATCH_SIZE, \n",
    "                        epochs=EPOCHS, \n",
    "                        validation_split=0.2, \n",
    "                        verbose=2\n",
    "                        )"
   ]
  },
  {
   "cell_type": "markdown",
   "metadata": {},
   "source": [
    "# Evaluation"
   ]
  },
  {
   "cell_type": "markdown",
   "metadata": {},
   "source": [
    "## Generate Predictions"
   ]
  },
  {
   "cell_type": "code",
   "execution_count": 28,
   "metadata": {},
   "outputs": [],
   "source": [
    "# Generate Predictions\n",
    "y_pred = []\n",
    "for i in range(len(X_test)):\n",
    "    y_pred_prob = model.predict(np.array([X_test[i]]))\n",
    "    y_pred_class = np.argmax(y_pred_prob, axis=-1)[0].tolist()\n",
    "    y_pred.append(y_pred_class)\n",
    "\n",
    "# Flatten lists\n",
    "y_pred = flatten_list(y_pred)\n",
    "y_test = flatten_list(y_test_val)"
   ]
  },
  {
   "cell_type": "markdown",
   "metadata": {},
   "source": [
    "## Classification Report"
   ]
  },
  {
   "cell_type": "code",
   "execution_count": 29,
   "metadata": {},
   "outputs": [
    {
     "name": "stdout",
     "output_type": "stream",
     "text": [
      "              precision    recall  f1-score   support\n",
      "\n",
      "           0       0.98      0.99      0.99      6877\n",
      "           1       0.93      0.88      0.90       626\n",
      "           2       0.89      0.88      0.89       547\n",
      "\n",
      "    accuracy                           0.97      8050\n",
      "   macro avg       0.94      0.92      0.93      8050\n",
      "weighted avg       0.97      0.97      0.97      8050\n",
      "\n"
     ]
    }
   ],
   "source": [
    "print(classification_report(y_test, y_pred))"
   ]
  },
  {
   "cell_type": "code",
   "execution_count": 30,
   "metadata": {},
   "outputs": [],
   "source": [
    "df_classification_report = get_classification_report(y_test, y_pred)\n",
    "\n",
    "file_name = f\"entity_extraction_configuration_report_{CONFIGURATION_LABEL}_epochs_{EPOCHS}_{TIME_STAMP}.csv\"\n",
    "path_classification_report = os.path.join(\n",
    "    path_dir_data, subfolder_a, subfolder_entity, file_name\n",
    ")\n",
    "\n",
    "df_classification_report.to_csv(path_classification_report, index_label=False)"
   ]
  },
  {
   "cell_type": "markdown",
   "metadata": {},
   "source": [
    "## Charts"
   ]
  },
  {
   "cell_type": "markdown",
   "metadata": {
    "id": "PHwYt3OGtiUZ"
   },
   "source": [
    "### Accuracy"
   ]
  },
  {
   "cell_type": "code",
   "execution_count": 31,
   "metadata": {
    "id": "YQrprnG2tgSl"
   },
   "outputs": [
    {
     "data": {
      "image/png": "[encoded data removed]",
      "text/plain": [
       "<Figure size 360x360 with 1 Axes>"
      ]
     },
     "metadata": {
      "needs_background": "light"
     },
     "output_type": "display_data"
    }
   ],
   "source": [
    "hist = pd.DataFrame(history.history)\n",
    "\n",
    "#plot training and validation accuracy\n",
    "f = plt.figure(figsize=(5,5))\n",
    "plt.plot(hist[\"accuracy\"], label =' Training Accuracy')\n",
    "plt.plot(hist[\"val_accuracy\"], label = 'Validation Accuracy')\n",
    "plt.legend(loc=\"lower right\")\n",
    "plt.show()\n",
    "\n",
    "# Save and output\n",
    "file_name = f\"enitity_extraction_training_validation_accuracy_{CONFIGURATION_LABEL}_epochs_{EPOCHS}_{TIME_STAMP}.png\"\n",
    "path = os.path.join(path_dir_data, subfolder_a, subfolder_entity, file_name)\n",
    "f.savefig(path)\n",
    "# f.download(path)"
   ]
  },
  {
   "cell_type": "markdown",
   "metadata": {},
   "source": [
    "### Loss"
   ]
  },
  {
   "cell_type": "code",
   "execution_count": 32,
   "metadata": {},
   "outputs": [
    {
     "data": {
      "image/png": "[encoded data removed]",
      "text/plain": [
       "<Figure size 360x360 with 1 Axes>"
      ]
     },
     "metadata": {
      "needs_background": "light"
     },
     "output_type": "display_data"
    }
   ],
   "source": [
    "# plot training and validation accuracy\n",
    "f = plt.figure(figsize=(5,5))\n",
    "plt.plot(hist[\"loss\"], label = 'Training Loss')\n",
    "plt.plot(hist[\"val_loss\"], label = 'Validation Loss')\n",
    "plt.legend(loc=\"upper right\")\n",
    "plt.show()\n",
    "\n",
    "# Save and output\n",
    "file_name = f\"enitity_extraction_training_validation_loss_{CONFIGURATION_LABEL}_epochs_{EPOCHS}_{TIME_STAMP}.png\"\n",
    "path = os.path.join(path_dir_data, subfolder_a, subfolder_entity, file_name)\n",
    "f.savefig(path)\n",
    "# f.download(path)"
   ]
  },
  {
   "cell_type": "markdown",
   "metadata": {
    "id": "9BI857mr_KqE"
   },
   "source": [
    "## Confusion Matrix"
   ]
  },
  {
   "cell_type": "code",
   "execution_count": 33,
   "metadata": {
    "id": "PzMImjtOhMB0"
   },
   "outputs": [
    {
     "data": {
      "image/png": "[encoded data removed]",
      "text/plain": [
       "<Figure size 720x504 with 2 Axes>"
      ]
     },
     "metadata": {
      "needs_background": "light"
     },
     "output_type": "display_data"
    }
   ],
   "source": [
    "# Create confusion matrix\n",
    "cm = confusion_matrix(y_test, y_pred)\n",
    "df_cm = pd.DataFrame(cm, columns=np.unique(y_test), index = np.unique(y_pred))\n",
    "df_cm.index.name = 'Actual'\n",
    "df_cm.columns.name = 'Predicted'\n",
    "\n",
    "# Visualize\n",
    "plt.figure(figsize = (10,7))\n",
    "sn.set(font_scale=1.4)#for label size\n",
    "sn.heatmap(df_cm, cmap=\"Blues\", annot=True , fmt='d', annot_kws={\"size\": 16}) ;# font size"
   ]
  },
  {
   "cell_type": "markdown",
   "metadata": {
    "id": "rOoxfczhTLwT"
   },
   "source": [
    "# Save and Restore Model\n",
    "The following section tests saving and restoring the model."
   ]
  },
  {
   "cell_type": "markdown",
   "metadata": {
    "id": "oW25ooyxTLwU"
   },
   "source": [
    "## Save"
   ]
  },
  {
   "cell_type": "code",
   "execution_count": 34,
   "metadata": {
    "id": "O9tFduNNTLwU"
   },
   "outputs": [
    {
     "name": "stdout",
     "output_type": "stream",
     "text": [
      "INFO:tensorflow:Assets written to: ./../data\\outputs\\entity_extraction\\entity_extraction_epoch_optimal_epochs_250_20210310-101431\\assets\n"
     ]
    }
   ],
   "source": [
    "# Export Model\n",
    "folder_keras_model = f\"entity_extraction_epoch_{CONFIGURATION_LABEL}_epochs_{EPOCHS}_{TIME_STAMP}\"\n",
    "path_keras_model = os.path.join(\n",
    "    path_dir_data, subfolder_a, subfolder_entity, folder_keras_model\n",
    ")\n",
    "\n",
    "# SavedModel\n",
    "model.save(path_keras_model)"
   ]
  },
  {
   "cell_type": "markdown",
   "metadata": {
    "id": "7X5xtWPdTLwV"
   },
   "source": [
    "# Restore"
   ]
  },
  {
   "cell_type": "code",
   "execution_count": 35,
   "metadata": {
    "id": "1lApnHIrTLwW"
   },
   "outputs": [
    {
     "name": "stdout",
     "output_type": "stream",
     "text": [
      "Model: \"sequential\"\n",
      "_________________________________________________________________\n",
      "Layer (type)                 Output Shape              Param #   \n",
      "=================================================================\n",
      "text_vectorization (TextVect (None, 50)                0         \n",
      "_________________________________________________________________\n",
      "embeddings_glove (Embedding) (None, 50, 100)           100200    \n",
      "_________________________________________________________________\n",
      "spatial_dropout1d (SpatialDr (None, 50, 100)           0         \n",
      "_________________________________________________________________\n",
      "bidirectional (Bidirectional (None, 50, 64)            34048     \n",
      "_________________________________________________________________\n",
      "bidirectional_1 (Bidirection (None, 50, 256)           197632    \n",
      "_________________________________________________________________\n",
      "time_distributed (TimeDistri (None, 50, 3)             771       \n",
      "=================================================================\n",
      "Total params: 332,651\n",
      "Trainable params: 332,651\n",
      "Non-trainable params: 0\n",
      "_________________________________________________________________\n"
     ]
    }
   ],
   "source": [
    "from tensorflow import keras\n",
    "model = keras.models.load_model(path_keras_model)\n",
    "\n",
    "model.summary()"
   ]
  }
 ],
 "metadata": {
  "colab": {
   "collapsed_sections": [],
   "name": "entity_extraction_w_pretrain_grid.ipynb",
   "provenance": [
    {
     "file_id": "1hiwAiWwiPi6jy6qMO-ZxvDvsfRdNpjup",
     "timestamp": 1614722070764
    },
    {
     "file_id": "1901b2Vjlq_cQumMzrQMzMj4YSAtYtQQB",
     "timestamp": 1613920819813
    },
    {
     "file_id": "1OI2mVjZSb6A4T1kqElXrhVQnRoMepdCS",
     "timestamp": 1609713580791
    }
   ],
   "toc_visible": true
  },
  "kernelspec": {
   "display_name": "Python 3",
   "language": "python",
   "name": "python3"
  },
  "language_info": {
   "codemirror_mode": {
    "name": "ipython",
    "version": 3
   },
   "file_extension": ".py",
   "mimetype": "text/x-python",
   "name": "python",
   "nbconvert_exporter": "python",
   "pygments_lexer": "ipython3",
   "version": "3.6.12"
  }
 },
 "nbformat": 4,
 "nbformat_minor": 4
}
