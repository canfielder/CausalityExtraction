{
 "cells": [
  {
   "cell_type": "markdown",
   "metadata": {
    "id": "6NZxp-tBaPmw"
   },
   "source": [
    "# Purpose\n",
    "The purpose of this notebook is to execute a grid search like evaluation of different Entity Extraction model parameters. This is the second iteration, and will implement parameters from the first iteration.\n",
    "\n",
    "**Parameters Selected Based on Iteration 1**:\n",
    "\n",
    "* **Embedding**: Glove\n",
    "* **Stopwords**: False\n",
    "* **Lemmatization**: False\n",
    "* **LSTM Stack**: True\n",
    "* **Hidden Dimension - Layer 1**: 32\n",
    "* **Hidden Dimension - Layer 2**: 128\n",
    "* **Dropout** : True\n",
    "* **Dropout Rate**: 0.5\n",
    "* **Sample Weights**: False\n",
    "* **Trainable**: True \n",
    "\n",
    "**Parameters to Evaluate:**\n",
    "* Optimizer\n",
    "* Time Distribution"
   ]
  },
  {
   "cell_type": "markdown",
   "metadata": {
    "id": "ydmpjBUaTSox"
   },
   "source": [
    "## Import"
   ]
  },
  {
   "cell_type": "markdown",
   "metadata": {
    "id": "5Ht4fSUCEYxb"
   },
   "source": [
    "### Packages"
   ]
  },
  {
   "cell_type": "code",
   "execution_count": 2,
   "metadata": {
    "id": "hLGnjMKjTQfO"
   },
   "outputs": [],
   "source": [
    "# General\n",
    "import codecs, io, os, re, sys, time\n",
    "from collections import OrderedDict \n",
    "from scipy.stats import uniform\n",
    "from tqdm import tqdm\n",
    "\n",
    "# Analysis\n",
    "import numpy as np\n",
    "import pandas as pd\n",
    "from sklearn.metrics import \\\n",
    "    accuracy_score, classification_report, confusion_matrix, \\\n",
    "    precision_recall_fscore_support\n",
    "from sklearn.model_selection import \\\n",
    "    ParameterGrid, RandomizedSearchCV, RepeatedStratifiedKFold\n",
    "from sklearn.utils.class_weight import compute_class_weight\n",
    "\n",
    "# Visual\n",
    "# import matplotlib.pyplot as plt\n",
    "# import seaborn as sn\n",
    "\n",
    "# Deep Learning\n",
    "import tensorflow as tf\n",
    "from keras.wrappers.scikit_learn import KerasClassifier\n",
    "from keras.callbacks import EarlyStopping\n",
    "from keras.layers.experimental.preprocessing import TextVectorization"
   ]
  },
  {
   "cell_type": "markdown",
   "metadata": {
    "id": "Rx49BG03Y0ti"
   },
   "source": [
    "### Custom Functions"
   ]
  },
  {
   "cell_type": "code",
   "execution_count": 3,
   "metadata": {
    "colab": {
     "base_uri": "https://localhost:8080/"
    },
    "executionInfo": {
     "elapsed": 7415,
     "status": "ok",
     "timestamp": 1614799372154,
     "user": {
      "displayName": "Evan Canfield",
      "photoUrl": "https://lh3.googleusercontent.com/a-/AOh14GhEQBcp694N8j_CiumfhnO4uh-h7N0uMc9ySCuRiA=s64",
      "userId": "16830523749518221174"
     },
     "user_tz": 300
    },
    "id": "2SSqGwonYyZz",
    "outputId": "eaa51fdb-6b38-4ef9-b5a3-85193e8518cf"
   },
   "outputs": [
    {
     "name": "stderr",
     "output_type": "stream",
     "text": [
      "[nltk_data] Downloading package wordnet to\n",
      "[nltk_data]     C:\\Users\\canfi\\AppData\\Roaming\\nltk_data...\n",
      "[nltk_data]   Package wordnet is already up-to-date!\n",
      "[nltk_data] Downloading package stopwords to\n",
      "[nltk_data]     C:\\Users\\canfi\\AppData\\Roaming\\nltk_data...\n",
      "[nltk_data]   Package stopwords is already up-to-date!\n"
     ]
    }
   ],
   "source": [
    "sys.path.append('*')\n",
    "from source_entity_extraction import *"
   ]
  },
  {
   "cell_type": "markdown",
   "metadata": {
    "id": "xB09vLl4nS3u"
   },
   "source": [
    "### Data\n",
    "The training data is imported and the necessary columns are converted to lists."
   ]
  },
  {
   "cell_type": "code",
   "execution_count": 4,
   "metadata": {
    "id": "T12Fmn31TQDB"
   },
   "outputs": [],
   "source": [
    "#import data\n",
    "path_dir_data =\"./../data\"\n",
    "subfolder_a = \"input\"\n",
    "file_training_data = \"training_data_dir_multiclass.xlsx\"\n",
    "path_training_data = os.path.join(path_dir_data, subfolder_a, file_training_data)\n",
    "dataset = pd.read_excel(path_training_data,  engine='openpyxl')\n",
    "\n",
    "#convert into lists\n",
    "df = pd.DataFrame({\n",
    "    'text': dataset.sentence, \n",
    "    'node1': dataset.node_1, \n",
    "    'node2': dataset.node_2\n",
    "    })\n",
    "\n",
    "df.dropna(inplace = True)"
   ]
  },
  {
   "cell_type": "markdown",
   "metadata": {
    "id": "e_MPdcfREjIx"
   },
   "source": [
    "## Randomness\n",
    "To better control and compare results of the Entity Extraction model between the environments where the model is trainined (Python) and where it will be implemented (R/Shiny), we will attempt to control any random actions by the process to maintain consistent results."
   ]
  },
  {
   "cell_type": "code",
   "execution_count": 5,
   "metadata": {
    "id": "efNVlefmEhjD"
   },
   "outputs": [],
   "source": [
    "random_state = 5590\n",
    "np.random.seed(random_state)\n",
    "tf.random.set_seed(random_state)"
   ]
  },
  {
   "cell_type": "markdown",
   "metadata": {
    "id": "TgdJLW9jMocN"
   },
   "source": [
    "# Global Actions\n",
    "The following section defines global settings or performs actions that are consistent across the entirety of this notebook."
   ]
  },
  {
   "cell_type": "markdown",
   "metadata": {
    "id": "qptDmZlpA7Zy"
   },
   "source": [
    "## Variables\n",
    "Varaibles that are used across multiple calls should be defined here."
   ]
  },
  {
   "cell_type": "code",
   "execution_count": 6,
   "metadata": {
    "id": "0e451rPAMjcr"
   },
   "outputs": [],
   "source": [
    "MAX_LENGTH = 50\n",
    "MAX_FEATURES = 1000\n",
    "BATCH_SIZE = 32\n",
    "LEMMATIZE = False\n",
    "STOP_WORDS = False\n",
    "SAMPLE_WEIGHTS = False\n",
    "TRAINABLE = True\n",
    "EMBEDDING_LABELS = [\n",
    "    \"text_vectorization\",\n",
    "    \"glove\",\n",
    "    \"fasttext\"\n",
    "]"
   ]
  },
  {
   "cell_type": "markdown",
   "metadata": {
    "id": "3hQ3gKs81QD6"
   },
   "source": [
    "## Pre-Processing\n"
   ]
  },
  {
   "cell_type": "markdown",
   "metadata": {
    "id": "FjJoknIOCMfp"
   },
   "source": [
    "### Text Processing"
   ]
  },
  {
   "cell_type": "code",
   "execution_count": 7,
   "metadata": {
    "id": "j4Kcf4oOCRU_"
   },
   "outputs": [],
   "source": [
    "df = process_text(\n",
    "    df, \n",
    "    stopwords = LEMMATIZE,\n",
    "    lemmatize = STOP_WORDS\n",
    "    )"
   ]
  },
  {
   "cell_type": "markdown",
   "metadata": {
    "id": "pbN9WOKnERIT"
   },
   "source": [
    "### Target Generation\n",
    "With the text processing complete we will now create two versions of the target set. The first will have the feature tokens converted into numerical representations for each class: 0, 1, 2. Then we will also create a target set that is a one-hot-encoded representation of the numerical classes."
   ]
  },
  {
   "cell_type": "code",
   "execution_count": 8,
   "metadata": {
    "id": "9bT6hnmXEP0B"
   },
   "outputs": [],
   "source": [
    "df = target_gen_wrapper(\n",
    "    df, \n",
    "    max_length=MAX_LENGTH\n",
    "    )"
   ]
  },
  {
   "cell_type": "markdown",
   "metadata": {
    "id": "64dw6NIFtUq_"
   },
   "source": [
    "## Split Data into Training / Test Sets"
   ]
  },
  {
   "cell_type": "code",
   "execution_count": 9,
   "metadata": {
    "id": "7ajaFUJBtVFh"
   },
   "outputs": [],
   "source": [
    "from sklearn.model_selection import train_test_split\n",
    "df_train, df_test = train_test_split(\n",
    "    df,\n",
    "    test_size=0.25, \n",
    "    random_state = random_state\n",
    "    )"
   ]
  },
  {
   "cell_type": "markdown",
   "metadata": {
    "id": "gosWJiVrBKGh"
   },
   "source": [
    "Due to the different nature of random actions between R and Python, it is easier to export the test set than to duplciate the train/test split."
   ]
  },
  {
   "cell_type": "code",
   "execution_count": 10,
   "metadata": {
    "id": "rV1KYga4H7oS"
   },
   "outputs": [],
   "source": [
    "subfolder_b = \"output\"\n",
    "subfolder_entity = \"entity_extraction\"\n",
    "file_name = 'entity_extraction_test_set.csv'\n",
    "path = os.path.join(path_dir_data, subfolder_b, \n",
    "                    subfolder_entity, file_name)\n",
    "df_test.to_csv(path, index_label=False)"
   ]
  },
  {
   "cell_type": "markdown",
   "metadata": {
    "id": "Ber3b53hqSzf"
   },
   "source": [
    "# Feature/Target Definition\n",
    "We need to define a target variable and perform preprocessing steps on the features before inputting into the model"
   ]
  },
  {
   "cell_type": "code",
   "execution_count": 11,
   "metadata": {
    "id": "hdTIFDJMC6_7"
   },
   "outputs": [],
   "source": [
    "# Features\n",
    "X_train = df_train['text'].tolist()\n",
    "X_test = df_test['text'].tolist()\n",
    "\n",
    "# Targets\n",
    "y_train_val = df_train['target_labels'].tolist()\n",
    "y_test_val = df_test['target_labels'].tolist()"
   ]
  },
  {
   "cell_type": "markdown",
   "metadata": {
    "id": "URjHIl_SJUrL"
   },
   "source": [
    "### Export Target Classes\n",
    "To simplify eventual work in R, we will generate the our target classes the test dataset and export it."
   ]
  },
  {
   "cell_type": "code",
   "execution_count": 12,
   "metadata": {
    "id": "cmmdN11OJ_Ql"
   },
   "outputs": [],
   "source": [
    "# Export Test Target Values\n",
    "# Set File Location\n",
    "file_name = 'entity_extraction_test_target_classes_cause_effect.csv'\n",
    "path = os.path.join(path_dir_data, subfolder_b, subfolder_entity, file_name)\n",
    "\n",
    "# Convert Lists to Dataframe\n",
    "df_targets_test = pd.DataFrame(y_test_val)\n",
    "\n",
    "# Export Target Values\n",
    "df_targets_test.to_csv(path, index=False, header=False)"
   ]
  },
  {
   "cell_type": "markdown",
   "metadata": {
    "id": "OansVCCY4-gr"
   },
   "source": [
    "# Build Model"
   ]
  },
  {
   "cell_type": "markdown",
   "metadata": {
    "id": "VcSL2bersDcz"
   },
   "source": [
    "## Vectorization Layer"
   ]
  },
  {
   "cell_type": "code",
   "execution_count": 13,
   "metadata": {
    "colab": {
     "base_uri": "https://localhost:8080/"
    },
    "executionInfo": {
     "elapsed": 7673,
     "status": "ok",
     "timestamp": 1614799372497,
     "user": {
      "displayName": "Evan Canfield",
      "photoUrl": "https://lh3.googleusercontent.com/a-/AOh14GhEQBcp694N8j_CiumfhnO4uh-h7N0uMc9ySCuRiA=s64",
      "userId": "16830523749518221174"
     },
     "user_tz": 300
    },
    "id": "_YelOovwsHIH",
    "outputId": "0bf78d48-aaeb-4255-df0f-d9e95133f1d3"
   },
   "outputs": [
    {
     "name": "stdout",
     "output_type": "stream",
     "text": [
      "Vocabulary Size: 1000\n"
     ]
    }
   ],
   "source": [
    "vectorization_layer = TextVectorization(\n",
    "    max_tokens=MAX_FEATURES,\n",
    "    output_mode='int',\n",
    "    output_sequence_length=MAX_LENGTH\n",
    "    )\n",
    "\n",
    "vectorization_layer.adapt(X_train)\n",
    "\n",
    "vocab = vectorization_layer.get_vocabulary()\n",
    "vocab_len = len(vocab)\n",
    "print(f\"Vocabulary Size: {vocab_len}\")"
   ]
  },
  {
   "cell_type": "code",
   "execution_count": 14,
   "metadata": {
    "id": "g1jMc8KFsLO1"
   },
   "outputs": [],
   "source": [
    "# Inspect vocabulary\n",
    "word_index = dict(zip(vocab, range(len(vocab))))\n",
    "# word_index"
   ]
  },
  {
   "cell_type": "code",
   "execution_count": 15,
   "metadata": {
    "id": "kbclFu2RsO1j"
   },
   "outputs": [],
   "source": [
    "# # Inspect vectorization output\n",
    "# m = 5\n",
    "# test_string = X_train[m]\n",
    "# print(f\"Test String - Raw:\\n{test_string}\")\n",
    "# print()\n",
    "# test_string_vec = vectorization_layer([test_string])\n",
    "# print(f\"Test String - Vectorized:\\n{test_string_vec[0]}\")"
   ]
  },
  {
   "cell_type": "markdown",
   "metadata": {
    "id": "xx7AYiWgJRBI"
   },
   "source": [
    "## Embedding Layer"
   ]
  },
  {
   "cell_type": "markdown",
   "metadata": {},
   "source": [
    "### Initialize"
   ]
  },
  {
   "cell_type": "code",
   "execution_count": 16,
   "metadata": {
    "id": "EINlOPUIaprc"
   },
   "outputs": [],
   "source": [
    "dct_embedding_index = {}\n",
    "\n",
    "# Initialize None for text vectorizaiton\n",
    "dct_embedding_index[\"text_vectorization\"] = {\n",
    "    \"index\": None,\n",
    "    \"dimension\": None\n",
    "}\n",
    "\n",
    "dct_embedding_matrix = {\n",
    "    \"text_vectorization\": None\n",
    "}"
   ]
  },
  {
   "cell_type": "markdown",
   "metadata": {
    "id": "yJISyTDus41G"
   },
   "source": [
    "### Embedding Matrix"
   ]
  },
  {
   "cell_type": "markdown",
   "metadata": {
    "id": "aYc1L1JUJd3H"
   },
   "source": [
    "### Glove"
   ]
  },
  {
   "cell_type": "markdown",
   "metadata": {
    "id": "LhiOseO63Xbc"
   },
   "source": [
    "##### Import/Load Embeddings"
   ]
  },
  {
   "cell_type": "code",
   "execution_count": 17,
   "metadata": {
    "colab": {
     "base_uri": "https://localhost:8080/"
    },
    "executionInfo": {
     "elapsed": 16869,
     "status": "ok",
     "timestamp": 1614799381724,
     "user": {
      "displayName": "Evan Canfield",
      "photoUrl": "https://lh3.googleusercontent.com/a-/AOh14GhEQBcp694N8j_CiumfhnO4uh-h7N0uMc9ySCuRiA=s64",
      "userId": "16830523749518221174"
     },
     "user_tz": 300
    },
    "id": "BUjfgZfy0sLs",
    "outputId": "ad67a3f1-0562-43a6-8dd1-28156f16e709"
   },
   "outputs": [
    {
     "name": "stderr",
     "output_type": "stream",
     "text": [
      "628it [00:00, 6217.73it/s]"
     ]
    },
    {
     "name": "stdout",
     "output_type": "stream",
     "text": [
      "Preparing embedding index...\n"
     ]
    },
    {
     "name": "stderr",
     "output_type": "stream",
     "text": [
      "400000it [00:34, 11575.42it/s]"
     ]
    },
    {
     "name": "stdout",
     "output_type": "stream",
     "text": [
      "Found 400000 word vectors.\n"
     ]
    },
    {
     "name": "stderr",
     "output_type": "stream",
     "text": [
      "\n"
     ]
    }
   ],
   "source": [
    "embed_label = EMBEDDING_LABELS[1]\n",
    "embedding_dim = 100\n",
    "\n",
    "# Define file path\n",
    "subfolder_embed = \"pre_trained\"\n",
    "subfolder_embed_glove = \"glove.6B\"\n",
    "file_name = \"glove.6B.100d.txt\"\n",
    "path = os.path.join(path_dir_data, subfolder_embed, subfolder_embed_glove, file_name)\n",
    "\n",
    "print(\"Preparing embedding index...\")\n",
    "embeddings_index = {}\n",
    "with open(path, encoding=\"utf8\") as f:\n",
    "    for line in tqdm(f):\n",
    "        word, coefs = line.split(maxsplit=1)\n",
    "        coefs = np.fromstring(coefs, \"f\", sep=\" \")\n",
    "        embeddings_index[word] = coefs\n",
    "\n",
    "dct_embedding_index[embed_label] = {\n",
    "    \"index\": embeddings_index,\n",
    "    \"dimension\": embedding_dim\n",
    "}\n",
    "print(f\"Found {len(embeddings_index)} word vectors.\")"
   ]
  },
  {
   "cell_type": "markdown",
   "metadata": {
    "id": "vLQWr47v3ond"
   },
   "source": [
    "##### Create Matrix"
   ]
  },
  {
   "cell_type": "code",
   "execution_count": 18,
   "metadata": {
    "id": "CPQy-IM42n3W"
   },
   "outputs": [],
   "source": [
    "embedding_matrix = gen_embedding_matrix(\n",
    "    dct_embedding_index = dct_embedding_index,\n",
    "    embed_label = embed_label, \n",
    "    vocabulary_length = vocab_len, \n",
    "    word_index = word_index\n",
    ")\n",
    "\n",
    "dct_embedding_matrix[embed_label] = embedding_matrix"
   ]
  },
  {
   "cell_type": "markdown",
   "metadata": {
    "id": "HFwIbN1gXnUC"
   },
   "source": [
    "#### FastText"
   ]
  },
  {
   "cell_type": "markdown",
   "metadata": {
    "id": "QsRgC6r5Xzzb"
   },
   "source": [
    "##### Import/Load Embeddings"
   ]
  },
  {
   "cell_type": "code",
   "execution_count": 19,
   "metadata": {
    "colab": {
     "base_uri": "https://localhost:8080/"
    },
    "executionInfo": {
     "elapsed": 121570,
     "status": "ok",
     "timestamp": 1614799486444,
     "user": {
      "displayName": "Evan Canfield",
      "photoUrl": "https://lh3.googleusercontent.com/a-/AOh14GhEQBcp694N8j_CiumfhnO4uh-h7N0uMc9ySCuRiA=s64",
      "userId": "16830523749518221174"
     },
     "user_tz": 300
    },
    "id": "LFW5qF4aXyyb",
    "outputId": "6923415e-b5c6-43f9-81fd-9f841a8b21f4"
   },
   "outputs": [],
   "source": [
    "# embed_label = EMBEDDING_LABELS[2]\n",
    "# embedding_dim = 300\n",
    "\n",
    "# # Define file path\n",
    "# subfolder_embed = \"pre_trained\"\n",
    "# subfolder_embed_fasttext = \"wiki-news-300d-1M.vec\"\n",
    "# file_name = \"wiki-news-300d-1M.vec\"\n",
    "# path = os.path.join(path_dir_data, subfolder_embed, subfolder_embed_fasttext, file_name)\n",
    "# f = codecs.open(path, encoding='utf-8')\n",
    "\n",
    "# print(\"Preparing embedding index...\")\n",
    "# embeddings_index = {}\n",
    "# for line in tqdm(f):\n",
    "#     values = line.rstrip().rsplit(' ')\n",
    "#     # print(values)\n",
    "#     word = values[0]\n",
    "#     # print(word)\n",
    "#     coefs = np.asarray(values[1:], dtype='float32')\n",
    "#     # print(coefs)\n",
    "#     embeddings_index[word] = coefs\n",
    "# f.close()\n",
    "\n",
    "# dct_embedding_index[embed_label] = {\n",
    "#     \"index\": embeddings_index,\n",
    "#     \"dimension\": embedding_dim,\n",
    "# }\n",
    "# print(f'Found {len(embeddings_index)} word vectors.')"
   ]
  },
  {
   "cell_type": "markdown",
   "metadata": {
    "id": "WShkkuPbdHBg"
   },
   "source": [
    "##### Create Matrix"
   ]
  },
  {
   "cell_type": "code",
   "execution_count": 20,
   "metadata": {
    "id": "OcCiA4x8dGY6"
   },
   "outputs": [],
   "source": [
    "# embedding_matrix = gen_embedding_matrix(\n",
    "#     dct_embedding_index = dct_embedding_index,\n",
    "#     embed_label = embed_label, \n",
    "#     vocabulary_length = vocab_len, \n",
    "#     word_index = word_index\n",
    "# )\n",
    "\n",
    "# dct_embedding_matrix[embed_label] = embedding_matrix"
   ]
  },
  {
   "cell_type": "markdown",
   "metadata": {
    "id": "igMZ00xO2__-"
   },
   "source": [
    "## Imbalance Class Management\n",
    "There is an imbalance in the classes predicted by the model. Roughly 90% of tokens are class 0 (not Cause or Entity node, filler words). The remaining classes (1: Cause, 2: Entity) account for about 5% of the remaining tokens, each.\n",
    "\n",
    "In order to better predict all classes in the dataset, and not create a model which simply predicts the default class, we need to weight each of these classes differently. Unfortunately, we cannot simply use the **class weights** input for training a Keras model. that is because we are predicting a 3D array as an output, and Keras will not allow the use of **class weights** in such a case. \n",
    "\n",
    "There is a workaround, as discussed in Keras Github issue 3653. We can use **sample weights**, with the sample weights mode set to *temporal*. \n",
    "\n",
    "https://github.com/keras-team/keras/issues/3653\n",
    "\n",
    "To apply sample weights to our model, we needa matrix of sample weights to account for all input values. This matrix will be the same size as the y_train output array (n samples X sample length).  "
   ]
  },
  {
   "cell_type": "markdown",
   "metadata": {
    "id": "15eMbOPwMd1x"
   },
   "source": [
    "### Sample Weights"
   ]
  },
  {
   "cell_type": "code",
   "execution_count": 21,
   "metadata": {
    "id": "t0Qr0yNAN4c_"
   },
   "outputs": [],
   "source": [
    "# # Initialize Sample weight matrix\n",
    "# sample_weight_matrix = np.array(y_train_val).copy()\n",
    "\n",
    "# # Flatten matrix\n",
    "# sample_weight_matrix_fl = flatten_list(sample_weight_matrix)\n",
    "\n",
    "# # Determine number of classes\n",
    "# n_classes = np.unique(sample_weight_matrix_fl).shape[0]\n",
    "\n",
    "# # Determine class weights\n",
    "# class_weights = compute_class_weight(\n",
    "#     \"balanced\", \n",
    "#     np.unique(sample_weight_matrix_fl), \n",
    "#     np.array(sample_weight_matrix_fl)\n",
    "#     )\n",
    "\n",
    "# # Replace class label with class weight\n",
    "# for i in range(0, len(class_weights)):\n",
    "#     sample_weight_matrix = np.where(\n",
    "#             sample_weight_matrix==i, \n",
    "#             class_weights[i], \n",
    "#             sample_weight_matrix\n",
    "#             ) \n"
   ]
  },
  {
   "cell_type": "markdown",
   "metadata": {
    "id": "krwlPSXbCuFF"
   },
   "source": [
    "# Grid"
   ]
  },
  {
   "cell_type": "markdown",
   "metadata": {
    "id": "eBjtpZRRCxAo"
   },
   "source": [
    "## Define Parameter Grid"
   ]
  },
  {
   "cell_type": "code",
   "execution_count": 23,
   "metadata": {
    "colab": {
     "base_uri": "https://localhost:8080/"
    },
    "executionInfo": {
     "elapsed": 121992,
     "status": "ok",
     "timestamp": 1614799486955,
     "user": {
      "displayName": "Evan Canfield",
      "photoUrl": "https://lh3.googleusercontent.com/a-/AOh14GhEQBcp694N8j_CiumfhnO4uh-h7N0uMc9ySCuRiA=s64",
      "userId": "16830523749518221174"
     },
     "user_tz": 300
    },
    "id": "1N5MM93qCtjS",
    "outputId": "a0953608-a824-41c9-8cf6-c8421326cd01"
   },
   "outputs": [
    {
     "name": "stdout",
     "output_type": "stream",
     "text": [
      "Number of Parameter Configurations: 4\n"
     ]
    }
   ],
   "source": [
    "params = {\n",
    "    'embedding': ['glove'],\n",
    "    'stop_words': [False],\n",
    "    'lemmatization': [False],\n",
    "    'hidden_dim_1': [32],\n",
    "    'hidden_dim_2': [128],\n",
    "    'lstm_stack': [True],\n",
    "    'dropout': [True],\n",
    "    'dropout_rate': [0.5],\n",
    "    'sample_weights': [False],\n",
    "    'trainable': [True],\n",
    "    'optimizer': ['adam', 'rmsprop'],\n",
    "    'time_distributed': [True, False],\n",
    "    }\n",
    "param_grid = list(ParameterGrid(params))\n",
    "print(f\"Number of Parameter Configurations: {len(param_grid)}\")"
   ]
  },
  {
   "cell_type": "markdown",
   "metadata": {
    "id": "lq0KA7euSH3r"
   },
   "source": [
    "## Initialize Output Dictionary"
   ]
  },
  {
   "cell_type": "code",
   "execution_count": 24,
   "metadata": {
    "id": "V4rIdFTcSHfg"
   },
   "outputs": [],
   "source": [
    "# Initialize\n",
    "dct_summary = OrderedDict()\n",
    "\n",
    "dct_summary[\"embedding\"] = []\n",
    "dct_summary[\"stop_words\"] = []\n",
    "dct_summary[\"lemmatization\"] = []\n",
    "dct_summary[\"hidden_dim_1\"] = []\n",
    "dct_summary[\"hidden_dim_2\"] = []\n",
    "dct_summary[\"lstm_stack\"] = []\n",
    "dct_summary[\"dropout\"] = []\n",
    "dct_summary[\"dropout_rate\"] = []\n",
    "dct_summary[\"sample_weights\"] = []\n",
    "dct_summary[\"trainable\"] = []\n",
    "dct_summary[\"optimizer\"] = []\n",
    "dct_summary[\"time_distributed\"] = []\n",
    "dct_summary[\"accuracy\"] = []\n",
    "dct_summary[\"precision_0\"] = []\n",
    "dct_summary[\"precision_1\"] = []\n",
    "dct_summary[\"precision_2\"] = []\n",
    "dct_summary[\"precision_macro\"] = []\n",
    "dct_summary[\"recall_0\"] = []\n",
    "dct_summary[\"recall_1\"] = []\n",
    "dct_summary[\"recall_2\"] = []\n",
    "dct_summary[\"recall_macro\"] = []\n",
    "dct_summary[\"f1_0\"] = []\n",
    "dct_summary[\"f1_1\"] = []\n",
    "dct_summary[\"f1_2\"] = []\n",
    "dct_summary[\"f1_macro\"] = []"
   ]
  },
  {
   "cell_type": "markdown",
   "metadata": {
    "id": "LgI4dADFC23x"
   },
   "source": [
    "## Execute Model Training/Evaluation"
   ]
  },
  {
   "cell_type": "code",
   "execution_count": 26,
   "metadata": {
    "colab": {
     "base_uri": "https://localhost:8080/"
    },
    "id": "3lpX5XM-C1hD",
    "outputId": "265c9dd9-a164-4245-c96e-9dcd4a1beccf"
   },
   "outputs": [
    {
     "name": "stdout",
     "output_type": "stream",
     "text": [
      "Iteration:\t\t1\n",
      "EMBEDDING:\t\tglove\n",
      "STOP_WORDS:\t\tFalse\n",
      "LEMMATIZATION:\t\tFalse\n",
      "HIDDEN_DIM:\t\t32\n",
      "HIDDEN_DIM:\t\t128\n",
      "LSTM_STACK:\t\tTrue\n",
      "DROP_OUT:\t\tTrue\n",
      "DROP_OUT:\t\t0.5\n",
      "SAMPLE_WEIGHTS:\t\tFalse\n",
      "TRAINABLE:\t\tTrue\n",
      "OPTIMIZER:\t\tadam\n",
      "TIME_DISTRIBUTED:\tTrue\n",
      "\n",
      "Epoch 1/75\n",
      "12/12 - 14s - loss: 0.3317 - accuracy: 0.5240 - val_loss: 0.2731 - val_accuracy: 0.5873\n",
      "Epoch 2/75\n",
      "12/12 - 2s - loss: 0.2949 - accuracy: 0.5900 - val_loss: 0.2611 - val_accuracy: 0.6139\n",
      "Epoch 3/75\n",
      "12/12 - 2s - loss: 0.2810 - accuracy: 0.6068 - val_loss: 0.2400 - val_accuracy: 0.6489\n",
      "Epoch 4/75\n",
      "12/12 - 2s - loss: 0.2594 - accuracy: 0.6629 - val_loss: 0.2136 - val_accuracy: 0.7236\n",
      "Epoch 5/75\n",
      "12/12 - 2s - loss: 0.2284 - accuracy: 0.7241 - val_loss: 0.1848 - val_accuracy: 0.7612\n",
      "Epoch 6/75\n",
      "12/12 - 2s - loss: 0.2091 - accuracy: 0.7536 - val_loss: 0.1748 - val_accuracy: 0.7865\n",
      "Epoch 7/75\n",
      "12/12 - 2s - loss: 0.1940 - accuracy: 0.7730 - val_loss: 0.1590 - val_accuracy: 0.8170\n",
      "Epoch 8/75\n",
      "12/12 - 2s - loss: 0.1785 - accuracy: 0.7943 - val_loss: 0.1529 - val_accuracy: 0.8086\n",
      "Epoch 9/75\n",
      "12/12 - 2s - loss: 0.1682 - accuracy: 0.8074 - val_loss: 0.1506 - val_accuracy: 0.8053\n",
      "Epoch 10/75\n",
      "12/12 - 2s - loss: 0.1538 - accuracy: 0.8283 - val_loss: 0.1383 - val_accuracy: 0.8306\n",
      "Epoch 11/75\n",
      "12/12 - 2s - loss: 0.1489 - accuracy: 0.8309 - val_loss: 0.1338 - val_accuracy: 0.8443\n",
      "Epoch 12/75\n",
      "12/12 - 2s - loss: 0.1435 - accuracy: 0.8329 - val_loss: 0.1295 - val_accuracy: 0.8417\n",
      "Epoch 13/75\n",
      "12/12 - 2s - loss: 0.1314 - accuracy: 0.8534 - val_loss: 0.1307 - val_accuracy: 0.8436\n",
      "Epoch 14/75\n",
      "12/12 - 2s - loss: 0.1222 - accuracy: 0.8711 - val_loss: 0.1288 - val_accuracy: 0.8494\n",
      "Epoch 15/75\n",
      "12/12 - 2s - loss: 0.1223 - accuracy: 0.8649 - val_loss: 0.1256 - val_accuracy: 0.8553\n",
      "Epoch 16/75\n",
      "12/12 - 2s - loss: 0.1154 - accuracy: 0.8724 - val_loss: 0.1302 - val_accuracy: 0.8462\n",
      "Epoch 17/75\n",
      "12/12 - 2s - loss: 0.1144 - accuracy: 0.8812 - val_loss: 0.1227 - val_accuracy: 0.8475\n",
      "Epoch 18/75\n",
      "12/12 - 2s - loss: 0.1051 - accuracy: 0.8823 - val_loss: 0.1232 - val_accuracy: 0.8553\n",
      "Epoch 19/75\n",
      "12/12 - 2s - loss: 0.0989 - accuracy: 0.8869 - val_loss: 0.1245 - val_accuracy: 0.8611\n",
      "Epoch 20/75\n",
      "12/12 - 2s - loss: 0.0900 - accuracy: 0.8990 - val_loss: 0.1252 - val_accuracy: 0.8592\n",
      "Epoch 21/75\n",
      "12/12 - 2s - loss: 0.0931 - accuracy: 0.8970 - val_loss: 0.1275 - val_accuracy: 0.8637\n",
      "Epoch 22/75\n",
      "12/12 - 2s - loss: 0.0901 - accuracy: 0.9023 - val_loss: 0.1261 - val_accuracy: 0.8533\n",
      "Epoch 23/75\n",
      "12/12 - 2s - loss: 0.0865 - accuracy: 0.9052 - val_loss: 0.1202 - val_accuracy: 0.8598\n",
      "Epoch 24/75\n",
      "12/12 - 2s - loss: 0.0820 - accuracy: 0.9092 - val_loss: 0.1211 - val_accuracy: 0.8676\n",
      "Epoch 25/75\n",
      "12/12 - 2s - loss: 0.0764 - accuracy: 0.9187 - val_loss: 0.1183 - val_accuracy: 0.8611\n",
      "Epoch 26/75\n",
      "12/12 - 2s - loss: 0.0747 - accuracy: 0.9152 - val_loss: 0.1161 - val_accuracy: 0.8644\n",
      "Epoch 27/75\n",
      "12/12 - 2s - loss: 0.0711 - accuracy: 0.9248 - val_loss: 0.1334 - val_accuracy: 0.8482\n",
      "Epoch 28/75\n",
      "12/12 - 2s - loss: 0.0716 - accuracy: 0.9210 - val_loss: 0.1283 - val_accuracy: 0.8514\n",
      "Epoch 29/75\n",
      "12/12 - 2s - loss: 0.0691 - accuracy: 0.9233 - val_loss: 0.1162 - val_accuracy: 0.8657\n",
      "Epoch 30/75\n",
      "12/12 - 2s - loss: 0.0601 - accuracy: 0.9375 - val_loss: 0.1272 - val_accuracy: 0.8585\n",
      "Epoch 31/75\n",
      "12/12 - 2s - loss: 0.0599 - accuracy: 0.9341 - val_loss: 0.1245 - val_accuracy: 0.8618\n",
      "Epoch 32/75\n",
      "12/12 - 2s - loss: 0.0616 - accuracy: 0.9337 - val_loss: 0.1310 - val_accuracy: 0.8598\n",
      "Epoch 33/75\n",
      "12/12 - 2s - loss: 0.0604 - accuracy: 0.9327 - val_loss: 0.1213 - val_accuracy: 0.8670\n",
      "Epoch 34/75\n",
      "12/12 - 2s - loss: 0.0563 - accuracy: 0.9353 - val_loss: 0.1176 - val_accuracy: 0.8709\n",
      "Epoch 35/75\n",
      "12/12 - 2s - loss: 0.0562 - accuracy: 0.9402 - val_loss: 0.1238 - val_accuracy: 0.8754\n",
      "Epoch 36/75\n",
      "12/12 - 2s - loss: 0.0553 - accuracy: 0.9395 - val_loss: 0.1216 - val_accuracy: 0.8702\n",
      "Epoch 37/75\n",
      "12/12 - 2s - loss: 0.0520 - accuracy: 0.9441 - val_loss: 0.1412 - val_accuracy: 0.8572\n",
      "Epoch 38/75\n",
      "12/12 - 2s - loss: 0.0541 - accuracy: 0.9418 - val_loss: 0.1246 - val_accuracy: 0.8748\n",
      "Epoch 39/75\n",
      "12/12 - 2s - loss: 0.0492 - accuracy: 0.9483 - val_loss: 0.1249 - val_accuracy: 0.8663\n",
      "Epoch 40/75\n",
      "12/12 - 2s - loss: 0.0486 - accuracy: 0.9441 - val_loss: 0.1176 - val_accuracy: 0.8715\n",
      "Epoch 41/75\n",
      "12/12 - 2s - loss: 0.0453 - accuracy: 0.9511 - val_loss: 0.1418 - val_accuracy: 0.8605\n",
      "Epoch 42/75\n",
      "12/12 - 2s - loss: 0.0497 - accuracy: 0.9486 - val_loss: 0.1286 - val_accuracy: 0.8715\n",
      "Epoch 43/75\n",
      "12/12 - 2s - loss: 0.0428 - accuracy: 0.9541 - val_loss: 0.1262 - val_accuracy: 0.8683\n",
      "Epoch 44/75\n",
      "12/12 - 2s - loss: 0.0418 - accuracy: 0.9557 - val_loss: 0.1349 - val_accuracy: 0.8618\n",
      "Epoch 45/75\n",
      "12/12 - 2s - loss: 0.0407 - accuracy: 0.9577 - val_loss: 0.1298 - val_accuracy: 0.8637\n",
      "Epoch 46/75\n",
      "12/12 - 2s - loss: 0.0380 - accuracy: 0.9589 - val_loss: 0.1352 - val_accuracy: 0.8611\n",
      "Epoch 47/75\n",
      "12/12 - 2s - loss: 0.0387 - accuracy: 0.9601 - val_loss: 0.1259 - val_accuracy: 0.8754\n",
      "Epoch 48/75\n",
      "12/12 - 2s - loss: 0.0361 - accuracy: 0.9601 - val_loss: 0.1302 - val_accuracy: 0.8650\n",
      "Epoch 49/75\n",
      "12/12 - 2s - loss: 0.0354 - accuracy: 0.9635 - val_loss: 0.1461 - val_accuracy: 0.8592\n",
      "Epoch 50/75\n",
      "12/12 - 2s - loss: 0.0394 - accuracy: 0.9574 - val_loss: 0.1385 - val_accuracy: 0.8715\n",
      "Epoch 51/75\n",
      "12/12 - 2s - loss: 0.0365 - accuracy: 0.9596 - val_loss: 0.1337 - val_accuracy: 0.8702\n",
      "Epoch 52/75\n",
      "12/12 - 2s - loss: 0.0342 - accuracy: 0.9648 - val_loss: 0.1387 - val_accuracy: 0.8683\n",
      "Epoch 53/75\n",
      "12/12 - 2s - loss: 0.0336 - accuracy: 0.9632 - val_loss: 0.1590 - val_accuracy: 0.8566\n",
      "Epoch 54/75\n",
      "12/12 - 2s - loss: 0.0319 - accuracy: 0.9668 - val_loss: 0.1422 - val_accuracy: 0.8689\n",
      "Epoch 55/75\n",
      "12/12 - 2s - loss: 0.0300 - accuracy: 0.9665 - val_loss: 0.1464 - val_accuracy: 0.8663\n",
      "Epoch 56/75\n",
      "12/12 - 2s - loss: 0.0322 - accuracy: 0.9650 - val_loss: 0.1457 - val_accuracy: 0.8670\n",
      "Epoch 57/75\n",
      "12/12 - 2s - loss: 0.0297 - accuracy: 0.9656 - val_loss: 0.1465 - val_accuracy: 0.8683\n",
      "Epoch 58/75\n",
      "12/12 - 2s - loss: 0.0294 - accuracy: 0.9673 - val_loss: 0.1606 - val_accuracy: 0.8618\n",
      "Epoch 59/75\n",
      "12/12 - 2s - loss: 0.0324 - accuracy: 0.9648 - val_loss: 0.1391 - val_accuracy: 0.8767\n",
      "Epoch 60/75\n",
      "12/12 - 2s - loss: 0.0285 - accuracy: 0.9687 - val_loss: 0.1567 - val_accuracy: 0.8683\n",
      "Epoch 61/75\n",
      "12/12 - 2s - loss: 0.0289 - accuracy: 0.9684 - val_loss: 0.1588 - val_accuracy: 0.8670\n",
      "Epoch 62/75\n",
      "12/12 - 2s - loss: 0.0290 - accuracy: 0.9679 - val_loss: 0.1454 - val_accuracy: 0.8774\n",
      "Epoch 63/75\n",
      "12/12 - 2s - loss: 0.0251 - accuracy: 0.9726 - val_loss: 0.1555 - val_accuracy: 0.8663\n",
      "Epoch 64/75\n",
      "12/12 - 2s - loss: 0.0260 - accuracy: 0.9700 - val_loss: 0.1528 - val_accuracy: 0.8689\n",
      "Epoch 65/75\n",
      "12/12 - 2s - loss: 0.0293 - accuracy: 0.9667 - val_loss: 0.1543 - val_accuracy: 0.8709\n",
      "Epoch 66/75\n",
      "12/12 - 2s - loss: 0.0303 - accuracy: 0.9681 - val_loss: 0.1548 - val_accuracy: 0.8696\n",
      "Epoch 67/75\n",
      "12/12 - 2s - loss: 0.0263 - accuracy: 0.9700 - val_loss: 0.1497 - val_accuracy: 0.8774\n",
      "Epoch 68/75\n",
      "12/12 - 2s - loss: 0.0251 - accuracy: 0.9732 - val_loss: 0.1577 - val_accuracy: 0.8728\n",
      "Epoch 69/75\n",
      "12/12 - 2s - loss: 0.0258 - accuracy: 0.9722 - val_loss: 0.1677 - val_accuracy: 0.8670\n",
      "Epoch 70/75\n",
      "12/12 - 2s - loss: 0.0257 - accuracy: 0.9728 - val_loss: 0.1379 - val_accuracy: 0.8761\n",
      "Epoch 71/75\n",
      "12/12 - 2s - loss: 0.0265 - accuracy: 0.9703 - val_loss: 0.1556 - val_accuracy: 0.8696\n",
      "Epoch 72/75\n",
      "12/12 - 2s - loss: 0.0237 - accuracy: 0.9746 - val_loss: 0.1518 - val_accuracy: 0.8702\n",
      "Epoch 73/75\n",
      "12/12 - 3s - loss: 0.0214 - accuracy: 0.9777 - val_loss: 0.1598 - val_accuracy: 0.8689\n",
      "Epoch 74/75\n",
      "12/12 - 3s - loss: 0.0226 - accuracy: 0.9755 - val_loss: 0.1586 - val_accuracy: 0.8696\n",
      "Epoch 75/75\n",
      "12/12 - 3s - loss: 0.0210 - accuracy: 0.9768 - val_loss: 0.1643 - val_accuracy: 0.8709\n",
      "Iteration:\t\t2\n",
      "EMBEDDING:\t\tglove\n",
      "STOP_WORDS:\t\tFalse\n",
      "LEMMATIZATION:\t\tFalse\n",
      "HIDDEN_DIM:\t\t32\n",
      "HIDDEN_DIM:\t\t128\n",
      "LSTM_STACK:\t\tTrue\n",
      "DROP_OUT:\t\tTrue\n",
      "DROP_OUT:\t\t0.5\n",
      "SAMPLE_WEIGHTS:\t\tFalse\n",
      "TRAINABLE:\t\tTrue\n",
      "OPTIMIZER:\t\tadam\n",
      "TIME_DISTRIBUTED:\tFalse\n",
      "\n",
      "Epoch 1/75\n",
      "12/12 - 19s - loss: 0.3287 - accuracy: 0.5367 - val_loss: 0.2704 - val_accuracy: 0.5892\n",
      "Epoch 2/75\n",
      "12/12 - 3s - loss: 0.2921 - accuracy: 0.5940 - val_loss: 0.2575 - val_accuracy: 0.6236\n",
      "Epoch 3/75\n",
      "12/12 - 3s - loss: 0.2760 - accuracy: 0.6188 - val_loss: 0.2334 - val_accuracy: 0.6639\n",
      "Epoch 4/75\n",
      "12/12 - 3s - loss: 0.2505 - accuracy: 0.6784 - val_loss: 0.2054 - val_accuracy: 0.7216\n",
      "Epoch 5/75\n",
      "12/12 - 3s - loss: 0.2214 - accuracy: 0.7288 - val_loss: 0.1811 - val_accuracy: 0.7547\n",
      "Epoch 6/75\n",
      "12/12 - 3s - loss: 0.2024 - accuracy: 0.7605 - val_loss: 0.1703 - val_accuracy: 0.7859\n",
      "Epoch 7/75\n",
      "12/12 - 3s - loss: 0.1893 - accuracy: 0.7820 - val_loss: 0.1698 - val_accuracy: 0.7943\n",
      "Epoch 8/75\n",
      "12/12 - 3s - loss: 0.1728 - accuracy: 0.8033 - val_loss: 0.1566 - val_accuracy: 0.8021\n",
      "Epoch 9/75\n",
      "12/12 - 3s - loss: 0.1650 - accuracy: 0.8053 - val_loss: 0.1552 - val_accuracy: 0.8008\n",
      "Epoch 10/75\n",
      "12/12 - 3s - loss: 0.1565 - accuracy: 0.8247 - val_loss: 0.1503 - val_accuracy: 0.8202\n",
      "Epoch 11/75\n",
      "12/12 - 3s - loss: 0.1476 - accuracy: 0.8323 - val_loss: 0.1408 - val_accuracy: 0.8339\n",
      "Epoch 12/75\n",
      "12/12 - 3s - loss: 0.1417 - accuracy: 0.8427 - val_loss: 0.1412 - val_accuracy: 0.8287\n",
      "Epoch 13/75\n",
      "12/12 - 3s - loss: 0.1365 - accuracy: 0.8429 - val_loss: 0.1419 - val_accuracy: 0.8326\n",
      "Epoch 14/75\n",
      "12/12 - 3s - loss: 0.1237 - accuracy: 0.8659 - val_loss: 0.1355 - val_accuracy: 0.8540\n",
      "Epoch 15/75\n",
      "12/12 - 3s - loss: 0.1228 - accuracy: 0.8638 - val_loss: 0.1318 - val_accuracy: 0.8488\n",
      "Epoch 16/75\n",
      "12/12 - 3s - loss: 0.1143 - accuracy: 0.8736 - val_loss: 0.1370 - val_accuracy: 0.8436\n",
      "Epoch 17/75\n",
      "12/12 - 3s - loss: 0.1150 - accuracy: 0.8750 - val_loss: 0.1328 - val_accuracy: 0.8488\n",
      "Epoch 18/75\n",
      "12/12 - 3s - loss: 0.1057 - accuracy: 0.8815 - val_loss: 0.1280 - val_accuracy: 0.8494\n",
      "Epoch 19/75\n",
      "12/12 - 3s - loss: 0.0992 - accuracy: 0.8942 - val_loss: 0.1353 - val_accuracy: 0.8514\n",
      "Epoch 20/75\n",
      "12/12 - 3s - loss: 0.0885 - accuracy: 0.9020 - val_loss: 0.1302 - val_accuracy: 0.8592\n",
      "Epoch 21/75\n",
      "12/12 - 3s - loss: 0.0907 - accuracy: 0.9016 - val_loss: 0.1332 - val_accuracy: 0.8611\n",
      "Epoch 22/75\n",
      "12/12 - 3s - loss: 0.0915 - accuracy: 0.8996 - val_loss: 0.1291 - val_accuracy: 0.8566\n",
      "Epoch 23/75\n",
      "12/12 - 3s - loss: 0.0866 - accuracy: 0.9035 - val_loss: 0.1229 - val_accuracy: 0.8605\n",
      "Epoch 24/75\n",
      "12/12 - 3s - loss: 0.0868 - accuracy: 0.9068 - val_loss: 0.1226 - val_accuracy: 0.8709\n",
      "Epoch 25/75\n",
      "12/12 - 3s - loss: 0.0797 - accuracy: 0.9167 - val_loss: 0.1176 - val_accuracy: 0.8715\n",
      "Epoch 26/75\n",
      "12/12 - 3s - loss: 0.0767 - accuracy: 0.9139 - val_loss: 0.1169 - val_accuracy: 0.8676\n",
      "Epoch 27/75\n",
      "12/12 - 3s - loss: 0.0740 - accuracy: 0.9159 - val_loss: 0.1225 - val_accuracy: 0.8650\n",
      "Epoch 28/75\n",
      "12/12 - 3s - loss: 0.0706 - accuracy: 0.9253 - val_loss: 0.1278 - val_accuracy: 0.8650\n",
      "Epoch 29/75\n",
      "12/12 - 3s - loss: 0.0707 - accuracy: 0.9204 - val_loss: 0.1141 - val_accuracy: 0.8709\n",
      "Epoch 30/75\n",
      "12/12 - 3s - loss: 0.0615 - accuracy: 0.9363 - val_loss: 0.1204 - val_accuracy: 0.8735\n",
      "Epoch 31/75\n",
      "12/12 - 3s - loss: 0.0612 - accuracy: 0.9335 - val_loss: 0.1284 - val_accuracy: 0.8702\n",
      "Epoch 32/75\n",
      "12/12 - 3s - loss: 0.0608 - accuracy: 0.9332 - val_loss: 0.1273 - val_accuracy: 0.8637\n",
      "Epoch 33/75\n",
      "12/12 - 3s - loss: 0.0607 - accuracy: 0.9317 - val_loss: 0.1212 - val_accuracy: 0.8741\n",
      "Epoch 34/75\n",
      "12/12 - 3s - loss: 0.0569 - accuracy: 0.9389 - val_loss: 0.1234 - val_accuracy: 0.8702\n",
      "Epoch 35/75\n",
      "12/12 - 3s - loss: 0.0577 - accuracy: 0.9390 - val_loss: 0.1314 - val_accuracy: 0.8644\n",
      "Epoch 36/75\n",
      "12/12 - 3s - loss: 0.0559 - accuracy: 0.9376 - val_loss: 0.1268 - val_accuracy: 0.8774\n",
      "Epoch 37/75\n",
      "12/12 - 3s - loss: 0.0528 - accuracy: 0.9482 - val_loss: 0.1241 - val_accuracy: 0.8702\n",
      "Epoch 38/75\n",
      "12/12 - 3s - loss: 0.0527 - accuracy: 0.9422 - val_loss: 0.1287 - val_accuracy: 0.8728\n",
      "Epoch 39/75\n",
      "12/12 - 3s - loss: 0.0504 - accuracy: 0.9463 - val_loss: 0.1195 - val_accuracy: 0.8832\n",
      "Epoch 40/75\n",
      "12/12 - 3s - loss: 0.0480 - accuracy: 0.9460 - val_loss: 0.1230 - val_accuracy: 0.8754\n",
      "Epoch 41/75\n",
      "12/12 - 3s - loss: 0.0445 - accuracy: 0.9522 - val_loss: 0.1261 - val_accuracy: 0.8754\n",
      "Epoch 42/75\n",
      "12/12 - 3s - loss: 0.0480 - accuracy: 0.9480 - val_loss: 0.1198 - val_accuracy: 0.8774\n",
      "Epoch 43/75\n",
      "12/12 - 3s - loss: 0.0407 - accuracy: 0.9572 - val_loss: 0.1372 - val_accuracy: 0.8702\n",
      "Epoch 44/75\n",
      "12/12 - 3s - loss: 0.0423 - accuracy: 0.9540 - val_loss: 0.1356 - val_accuracy: 0.8728\n",
      "Epoch 45/75\n",
      "12/12 - 3s - loss: 0.0411 - accuracy: 0.9560 - val_loss: 0.1350 - val_accuracy: 0.8741\n",
      "Epoch 46/75\n",
      "12/12 - 3s - loss: 0.0436 - accuracy: 0.9511 - val_loss: 0.1277 - val_accuracy: 0.8812\n",
      "Epoch 47/75\n",
      "12/12 - 3s - loss: 0.0416 - accuracy: 0.9581 - val_loss: 0.1157 - val_accuracy: 0.8923\n",
      "Epoch 48/75\n",
      "12/12 - 3s - loss: 0.0372 - accuracy: 0.9613 - val_loss: 0.1295 - val_accuracy: 0.8858\n",
      "Epoch 49/75\n",
      "12/12 - 3s - loss: 0.0412 - accuracy: 0.9586 - val_loss: 0.1182 - val_accuracy: 0.8832\n",
      "Epoch 50/75\n",
      "12/12 - 3s - loss: 0.0403 - accuracy: 0.9575 - val_loss: 0.1237 - val_accuracy: 0.8806\n",
      "Epoch 51/75\n",
      "12/12 - 3s - loss: 0.0379 - accuracy: 0.9558 - val_loss: 0.1280 - val_accuracy: 0.8819\n",
      "Epoch 52/75\n",
      "12/12 - 3s - loss: 0.0355 - accuracy: 0.9607 - val_loss: 0.1367 - val_accuracy: 0.8780\n",
      "Epoch 53/75\n",
      "12/12 - 3s - loss: 0.0356 - accuracy: 0.9589 - val_loss: 0.1349 - val_accuracy: 0.8806\n",
      "Epoch 54/75\n",
      "12/12 - 3s - loss: 0.0308 - accuracy: 0.9682 - val_loss: 0.1344 - val_accuracy: 0.8780\n",
      "Epoch 55/75\n",
      "12/12 - 3s - loss: 0.0289 - accuracy: 0.9713 - val_loss: 0.1352 - val_accuracy: 0.8780\n",
      "Epoch 56/75\n",
      "12/12 - 3s - loss: 0.0308 - accuracy: 0.9667 - val_loss: 0.1374 - val_accuracy: 0.8780\n",
      "Epoch 57/75\n",
      "12/12 - 3s - loss: 0.0309 - accuracy: 0.9670 - val_loss: 0.1313 - val_accuracy: 0.8877\n",
      "Epoch 58/75\n",
      "12/12 - 4s - loss: 0.0310 - accuracy: 0.9665 - val_loss: 0.1361 - val_accuracy: 0.8812\n",
      "Epoch 59/75\n",
      "12/12 - 3s - loss: 0.0305 - accuracy: 0.9664 - val_loss: 0.1364 - val_accuracy: 0.8845\n",
      "Epoch 60/75\n",
      "12/12 - 3s - loss: 0.0283 - accuracy: 0.9676 - val_loss: 0.1330 - val_accuracy: 0.8832\n",
      "Epoch 61/75\n",
      "12/12 - 4s - loss: 0.0256 - accuracy: 0.9726 - val_loss: 0.1398 - val_accuracy: 0.8728\n",
      "Epoch 62/75\n",
      "12/12 - 4s - loss: 0.0254 - accuracy: 0.9719 - val_loss: 0.1536 - val_accuracy: 0.8787\n",
      "Epoch 63/75\n",
      "12/12 - 3s - loss: 0.0295 - accuracy: 0.9685 - val_loss: 0.1431 - val_accuracy: 0.8812\n",
      "Epoch 64/75\n",
      "12/12 - 3s - loss: 0.0270 - accuracy: 0.9714 - val_loss: 0.1384 - val_accuracy: 0.8819\n",
      "Epoch 65/75\n",
      "12/12 - 3s - loss: 0.0287 - accuracy: 0.9677 - val_loss: 0.1392 - val_accuracy: 0.8799\n",
      "Epoch 66/75\n",
      "12/12 - 3s - loss: 0.0329 - accuracy: 0.9625 - val_loss: 0.1436 - val_accuracy: 0.8787\n",
      "Epoch 67/75\n",
      "12/12 - 3s - loss: 0.0264 - accuracy: 0.9690 - val_loss: 0.1424 - val_accuracy: 0.8754\n",
      "Epoch 68/75\n",
      "12/12 - 3s - loss: 0.0274 - accuracy: 0.9711 - val_loss: 0.1374 - val_accuracy: 0.8799\n",
      "Epoch 69/75\n",
      "12/12 - 3s - loss: 0.0252 - accuracy: 0.9722 - val_loss: 0.1519 - val_accuracy: 0.8702\n",
      "Epoch 70/75\n",
      "12/12 - 3s - loss: 0.0233 - accuracy: 0.9751 - val_loss: 0.1461 - val_accuracy: 0.8806\n",
      "Epoch 71/75\n",
      "12/12 - 3s - loss: 0.0220 - accuracy: 0.9755 - val_loss: 0.1516 - val_accuracy: 0.8799\n",
      "Epoch 72/75\n",
      "12/12 - 3s - loss: 0.0256 - accuracy: 0.9732 - val_loss: 0.1432 - val_accuracy: 0.8819\n",
      "Epoch 73/75\n",
      "12/12 - 3s - loss: 0.0208 - accuracy: 0.9780 - val_loss: 0.1479 - val_accuracy: 0.8774\n",
      "Epoch 74/75\n",
      "12/12 - 3s - loss: 0.0229 - accuracy: 0.9745 - val_loss: 0.1474 - val_accuracy: 0.8799\n",
      "Epoch 75/75\n",
      "12/12 - 3s - loss: 0.0219 - accuracy: 0.9762 - val_loss: 0.1469 - val_accuracy: 0.8787\n",
      "Iteration:\t\t3\n",
      "EMBEDDING:\t\tglove\n",
      "STOP_WORDS:\t\tFalse\n",
      "LEMMATIZATION:\t\tFalse\n",
      "HIDDEN_DIM:\t\t32\n",
      "HIDDEN_DIM:\t\t128\n",
      "LSTM_STACK:\t\tTrue\n",
      "DROP_OUT:\t\tTrue\n",
      "DROP_OUT:\t\t0.5\n",
      "SAMPLE_WEIGHTS:\t\tFalse\n",
      "TRAINABLE:\t\tTrue\n",
      "OPTIMIZER:\t\trmsprop\n",
      "TIME_DISTRIBUTED:\tTrue\n",
      "\n",
      "Epoch 1/75\n",
      "12/12 - 22s - loss: 0.3197 - accuracy: 0.5511 - val_loss: 0.2637 - val_accuracy: 0.6126\n",
      "Epoch 2/75\n",
      "12/12 - 6s - loss: 0.2857 - accuracy: 0.6215 - val_loss: 0.2371 - val_accuracy: 0.6561\n",
      "Epoch 3/75\n",
      "12/12 - 6s - loss: 0.2577 - accuracy: 0.6689 - val_loss: 0.2393 - val_accuracy: 0.6587\n",
      "Epoch 4/75\n",
      "12/12 - 6s - loss: 0.2440 - accuracy: 0.6888 - val_loss: 0.1957 - val_accuracy: 0.7495\n",
      "Epoch 5/75\n",
      "12/12 - 5s - loss: 0.2152 - accuracy: 0.7432 - val_loss: 0.1823 - val_accuracy: 0.7716\n",
      "Epoch 6/75\n",
      "12/12 - 6s - loss: 0.2028 - accuracy: 0.7554 - val_loss: 0.1778 - val_accuracy: 0.7813\n",
      "Epoch 7/75\n",
      "12/12 - 5s - loss: 0.1866 - accuracy: 0.7868 - val_loss: 0.1633 - val_accuracy: 0.7995\n",
      "Epoch 8/75\n",
      "12/12 - 6s - loss: 0.1847 - accuracy: 0.7877 - val_loss: 0.1625 - val_accuracy: 0.7910\n",
      "Epoch 9/75\n",
      "12/12 - 6s - loss: 0.1684 - accuracy: 0.8079 - val_loss: 0.1611 - val_accuracy: 0.7982\n",
      "Epoch 10/75\n",
      "12/12 - 6s - loss: 0.1626 - accuracy: 0.8187 - val_loss: 0.1575 - val_accuracy: 0.8027\n",
      "Epoch 11/75\n",
      "12/12 - 6s - loss: 0.1585 - accuracy: 0.8100 - val_loss: 0.1466 - val_accuracy: 0.8183\n",
      "Epoch 12/75\n",
      "12/12 - 6s - loss: 0.1569 - accuracy: 0.8271 - val_loss: 0.1447 - val_accuracy: 0.8164\n",
      "Epoch 13/75\n",
      "12/12 - 5s - loss: 0.1444 - accuracy: 0.8366 - val_loss: 0.1423 - val_accuracy: 0.8306\n",
      "Epoch 14/75\n",
      "12/12 - 6s - loss: 0.1421 - accuracy: 0.8349 - val_loss: 0.1351 - val_accuracy: 0.8319\n",
      "Epoch 15/75\n",
      "12/12 - 6s - loss: 0.1419 - accuracy: 0.8410 - val_loss: 0.1420 - val_accuracy: 0.8261\n",
      "Epoch 16/75\n",
      "12/12 - 6s - loss: 0.1344 - accuracy: 0.8534 - val_loss: 0.1644 - val_accuracy: 0.7923\n",
      "Epoch 17/75\n",
      "12/12 - 6s - loss: 0.1296 - accuracy: 0.8589 - val_loss: 0.1445 - val_accuracy: 0.8183\n",
      "Epoch 18/75\n",
      "12/12 - 6s - loss: 0.1278 - accuracy: 0.8571 - val_loss: 0.1333 - val_accuracy: 0.8404\n",
      "Epoch 19/75\n",
      "12/12 - 6s - loss: 0.1178 - accuracy: 0.8679 - val_loss: 0.1317 - val_accuracy: 0.8417\n",
      "Epoch 20/75\n",
      "12/12 - 6s - loss: 0.1177 - accuracy: 0.8704 - val_loss: 0.1274 - val_accuracy: 0.8469\n",
      "Epoch 21/75\n",
      "12/12 - 5s - loss: 0.1133 - accuracy: 0.8711 - val_loss: 0.1451 - val_accuracy: 0.8365\n",
      "Epoch 22/75\n",
      "12/12 - 5s - loss: 0.1108 - accuracy: 0.8756 - val_loss: 0.1313 - val_accuracy: 0.8475\n",
      "Epoch 23/75\n",
      "12/12 - 6s - loss: 0.1035 - accuracy: 0.8849 - val_loss: 0.1353 - val_accuracy: 0.8482\n",
      "Epoch 24/75\n",
      "12/12 - 5s - loss: 0.1035 - accuracy: 0.8783 - val_loss: 0.1344 - val_accuracy: 0.8494\n",
      "Epoch 25/75\n",
      "12/12 - 6s - loss: 0.1000 - accuracy: 0.8925 - val_loss: 0.1341 - val_accuracy: 0.8475\n",
      "Epoch 26/75\n",
      "12/12 - 6s - loss: 0.0957 - accuracy: 0.8938 - val_loss: 0.1485 - val_accuracy: 0.8378\n",
      "Epoch 27/75\n",
      "12/12 - 6s - loss: 0.0976 - accuracy: 0.8927 - val_loss: 0.1220 - val_accuracy: 0.8605\n",
      "Epoch 28/75\n",
      "12/12 - 6s - loss: 0.0901 - accuracy: 0.8954 - val_loss: 0.1313 - val_accuracy: 0.8624\n",
      "Epoch 29/75\n",
      "12/12 - 6s - loss: 0.0920 - accuracy: 0.8944 - val_loss: 0.1239 - val_accuracy: 0.8566\n",
      "Epoch 30/75\n",
      "12/12 - 6s - loss: 0.0873 - accuracy: 0.9037 - val_loss: 0.1241 - val_accuracy: 0.8605\n",
      "Epoch 31/75\n",
      "12/12 - 10s - loss: 0.0865 - accuracy: 0.9023 - val_loss: 0.1307 - val_accuracy: 0.8657\n",
      "Epoch 32/75\n",
      "12/12 - 7s - loss: 0.0834 - accuracy: 0.9060 - val_loss: 0.1248 - val_accuracy: 0.8540\n",
      "Epoch 33/75\n",
      "12/12 - 6s - loss: 0.0775 - accuracy: 0.9152 - val_loss: 0.1224 - val_accuracy: 0.8657\n",
      "Epoch 34/75\n",
      "12/12 - 5s - loss: 0.0819 - accuracy: 0.9101 - val_loss: 0.1275 - val_accuracy: 0.8546\n",
      "Epoch 35/75\n",
      "12/12 - 5s - loss: 0.0701 - accuracy: 0.9228 - val_loss: 0.1197 - val_accuracy: 0.8624\n",
      "Epoch 36/75\n",
      "12/12 - 5s - loss: 0.0688 - accuracy: 0.9234 - val_loss: 0.1291 - val_accuracy: 0.8650\n",
      "Epoch 37/75\n",
      "12/12 - 5s - loss: 0.0660 - accuracy: 0.9272 - val_loss: 0.1263 - val_accuracy: 0.8572\n",
      "Epoch 38/75\n",
      "12/12 - 5s - loss: 0.0696 - accuracy: 0.9223 - val_loss: 0.1280 - val_accuracy: 0.8592\n",
      "Epoch 39/75\n",
      "12/12 - 5s - loss: 0.0650 - accuracy: 0.9297 - val_loss: 0.1333 - val_accuracy: 0.8572\n",
      "Epoch 40/75\n",
      "12/12 - 5s - loss: 0.0713 - accuracy: 0.9188 - val_loss: 0.1258 - val_accuracy: 0.8631\n",
      "Epoch 41/75\n",
      "12/12 - 5s - loss: 0.0619 - accuracy: 0.9334 - val_loss: 0.1269 - val_accuracy: 0.8618\n",
      "Epoch 42/75\n",
      "12/12 - 5s - loss: 0.0666 - accuracy: 0.9268 - val_loss: 0.1153 - val_accuracy: 0.8741\n",
      "Epoch 43/75\n",
      "12/12 - 5s - loss: 0.0588 - accuracy: 0.9364 - val_loss: 0.1388 - val_accuracy: 0.8579\n",
      "Epoch 44/75\n",
      "12/12 - 5s - loss: 0.0571 - accuracy: 0.9390 - val_loss: 0.1269 - val_accuracy: 0.8637\n",
      "Epoch 45/75\n",
      "12/12 - 5s - loss: 0.0539 - accuracy: 0.9430 - val_loss: 0.1335 - val_accuracy: 0.8650\n",
      "Epoch 46/75\n",
      "12/12 - 5s - loss: 0.0560 - accuracy: 0.9358 - val_loss: 0.1328 - val_accuracy: 0.8605\n",
      "Epoch 47/75\n",
      "12/12 - 5s - loss: 0.0554 - accuracy: 0.9444 - val_loss: 0.1183 - val_accuracy: 0.8644\n",
      "Epoch 48/75\n",
      "12/12 - 5s - loss: 0.0495 - accuracy: 0.9471 - val_loss: 0.1307 - val_accuracy: 0.8592\n",
      "Epoch 49/75\n",
      "12/12 - 5s - loss: 0.0554 - accuracy: 0.9413 - val_loss: 0.1275 - val_accuracy: 0.8624\n",
      "Epoch 50/75\n",
      "12/12 - 5s - loss: 0.0534 - accuracy: 0.9433 - val_loss: 0.1410 - val_accuracy: 0.8644\n",
      "Epoch 51/75\n",
      "12/12 - 5s - loss: 0.0488 - accuracy: 0.9459 - val_loss: 0.1424 - val_accuracy: 0.8631\n",
      "Epoch 52/75\n",
      "12/12 - 5s - loss: 0.0482 - accuracy: 0.9448 - val_loss: 0.1404 - val_accuracy: 0.8676\n",
      "Epoch 53/75\n",
      "12/12 - 5s - loss: 0.0481 - accuracy: 0.9506 - val_loss: 0.1403 - val_accuracy: 0.8676\n",
      "Epoch 54/75\n",
      "12/12 - 5s - loss: 0.0461 - accuracy: 0.9496 - val_loss: 0.1301 - val_accuracy: 0.8670\n",
      "Epoch 55/75\n",
      "12/12 - 5s - loss: 0.0413 - accuracy: 0.9561 - val_loss: 0.1392 - val_accuracy: 0.8631\n",
      "Epoch 56/75\n",
      "12/12 - 5s - loss: 0.0457 - accuracy: 0.9479 - val_loss: 0.1322 - val_accuracy: 0.8631\n",
      "Epoch 57/75\n",
      "12/12 - 6s - loss: 0.0436 - accuracy: 0.9526 - val_loss: 0.1352 - val_accuracy: 0.8702\n",
      "Epoch 58/75\n",
      "12/12 - 6s - loss: 0.0442 - accuracy: 0.9520 - val_loss: 0.1367 - val_accuracy: 0.8657\n",
      "Epoch 59/75\n",
      "12/12 - 6s - loss: 0.0398 - accuracy: 0.9538 - val_loss: 0.1316 - val_accuracy: 0.8754\n",
      "Epoch 60/75\n",
      "12/12 - 5s - loss: 0.0431 - accuracy: 0.9560 - val_loss: 0.1492 - val_accuracy: 0.8631\n",
      "Epoch 61/75\n",
      "12/12 - 5s - loss: 0.0396 - accuracy: 0.9580 - val_loss: 0.1290 - val_accuracy: 0.8735\n",
      "Epoch 62/75\n",
      "12/12 - 5s - loss: 0.0384 - accuracy: 0.9574 - val_loss: 0.1442 - val_accuracy: 0.8676\n",
      "Epoch 63/75\n",
      "12/12 - 5s - loss: 0.0363 - accuracy: 0.9572 - val_loss: 0.1374 - val_accuracy: 0.8663\n",
      "Epoch 64/75\n",
      "12/12 - 5s - loss: 0.0324 - accuracy: 0.9638 - val_loss: 0.1480 - val_accuracy: 0.8696\n",
      "Epoch 65/75\n",
      "12/12 - 5s - loss: 0.0350 - accuracy: 0.9632 - val_loss: 0.1351 - val_accuracy: 0.8793\n",
      "Epoch 66/75\n",
      "12/12 - 5s - loss: 0.0330 - accuracy: 0.9650 - val_loss: 0.1321 - val_accuracy: 0.8767\n",
      "Epoch 67/75\n",
      "12/12 - 5s - loss: 0.0348 - accuracy: 0.9636 - val_loss: 0.1330 - val_accuracy: 0.8735\n",
      "Epoch 68/75\n",
      "12/12 - 5s - loss: 0.0317 - accuracy: 0.9655 - val_loss: 0.1489 - val_accuracy: 0.8683\n",
      "Epoch 69/75\n",
      "12/12 - 5s - loss: 0.0334 - accuracy: 0.9619 - val_loss: 0.1355 - val_accuracy: 0.8799\n",
      "Epoch 70/75\n",
      "12/12 - 5s - loss: 0.0284 - accuracy: 0.9684 - val_loss: 0.1604 - val_accuracy: 0.8676\n",
      "Epoch 71/75\n",
      "12/12 - 5s - loss: 0.0302 - accuracy: 0.9696 - val_loss: 0.1518 - val_accuracy: 0.8787\n",
      "Epoch 72/75\n",
      "12/12 - 5s - loss: 0.0311 - accuracy: 0.9659 - val_loss: 0.1335 - val_accuracy: 0.8793\n",
      "Epoch 73/75\n",
      "12/12 - 5s - loss: 0.0267 - accuracy: 0.9710 - val_loss: 0.1361 - val_accuracy: 0.8825\n",
      "Epoch 74/75\n",
      "12/12 - 5s - loss: 0.0326 - accuracy: 0.9618 - val_loss: 0.1514 - val_accuracy: 0.8728\n",
      "Epoch 75/75\n",
      "12/12 - 5s - loss: 0.0293 - accuracy: 0.9674 - val_loss: 0.1441 - val_accuracy: 0.8787\n",
      "Iteration:\t\t4\n",
      "EMBEDDING:\t\tglove\n",
      "STOP_WORDS:\t\tFalse\n",
      "LEMMATIZATION:\t\tFalse\n",
      "HIDDEN_DIM:\t\t32\n",
      "HIDDEN_DIM:\t\t128\n",
      "LSTM_STACK:\t\tTrue\n",
      "DROP_OUT:\t\tTrue\n",
      "DROP_OUT:\t\t0.5\n",
      "SAMPLE_WEIGHTS:\t\tFalse\n",
      "TRAINABLE:\t\tTrue\n",
      "OPTIMIZER:\t\trmsprop\n",
      "TIME_DISTRIBUTED:\tFalse\n",
      "\n",
      "Epoch 1/75\n",
      "12/12 - 19s - loss: 0.3176 - accuracy: 0.5478 - val_loss: 0.2690 - val_accuracy: 0.6093\n",
      "Epoch 2/75\n",
      "12/12 - 5s - loss: 0.2864 - accuracy: 0.6189 - val_loss: 0.2401 - val_accuracy: 0.6515\n",
      "Epoch 3/75\n",
      "12/12 - 5s - loss: 0.2637 - accuracy: 0.6585 - val_loss: 0.2142 - val_accuracy: 0.7002\n",
      "Epoch 4/75\n",
      "12/12 - 5s - loss: 0.2369 - accuracy: 0.7119 - val_loss: 0.2012 - val_accuracy: 0.7365\n",
      "Epoch 5/75\n",
      "12/12 - 5s - loss: 0.2158 - accuracy: 0.7501 - val_loss: 0.1810 - val_accuracy: 0.7703\n",
      "Epoch 6/75\n",
      "12/12 - 5s - loss: 0.2028 - accuracy: 0.7525 - val_loss: 0.1723 - val_accuracy: 0.7729\n",
      "Epoch 7/75\n",
      "12/12 - 5s - loss: 0.1868 - accuracy: 0.7836 - val_loss: 0.1665 - val_accuracy: 0.7865\n",
      "Epoch 8/75\n",
      "12/12 - 5s - loss: 0.1824 - accuracy: 0.7869 - val_loss: 0.1668 - val_accuracy: 0.7936\n",
      "Epoch 9/75\n",
      "12/12 - 5s - loss: 0.1683 - accuracy: 0.8020 - val_loss: 0.1622 - val_accuracy: 0.8040\n",
      "Epoch 10/75\n",
      "12/12 - 6s - loss: 0.1615 - accuracy: 0.8129 - val_loss: 0.1501 - val_accuracy: 0.8086\n",
      "Epoch 11/75\n",
      "12/12 - 6s - loss: 0.1596 - accuracy: 0.8181 - val_loss: 0.1451 - val_accuracy: 0.8287\n",
      "Epoch 12/75\n",
      "12/12 - 5s - loss: 0.1580 - accuracy: 0.8208 - val_loss: 0.1420 - val_accuracy: 0.8261\n",
      "Epoch 13/75\n",
      "12/12 - 5s - loss: 0.1442 - accuracy: 0.8346 - val_loss: 0.1421 - val_accuracy: 0.8352\n",
      "Epoch 14/75\n",
      "12/12 - 5s - loss: 0.1408 - accuracy: 0.8426 - val_loss: 0.1418 - val_accuracy: 0.8430\n",
      "Epoch 15/75\n",
      "12/12 - 5s - loss: 0.1369 - accuracy: 0.8484 - val_loss: 0.1347 - val_accuracy: 0.8456\n",
      "Epoch 16/75\n",
      "12/12 - 5s - loss: 0.1404 - accuracy: 0.8468 - val_loss: 0.1412 - val_accuracy: 0.8274\n",
      "Epoch 17/75\n",
      "12/12 - 5s - loss: 0.1252 - accuracy: 0.8614 - val_loss: 0.1349 - val_accuracy: 0.8397\n",
      "Epoch 18/75\n",
      "12/12 - 5s - loss: 0.1216 - accuracy: 0.8666 - val_loss: 0.1340 - val_accuracy: 0.8527\n",
      "Epoch 19/75\n",
      "12/12 - 5s - loss: 0.1217 - accuracy: 0.8658 - val_loss: 0.1428 - val_accuracy: 0.8449\n",
      "Epoch 20/75\n",
      "12/12 - 5s - loss: 0.1180 - accuracy: 0.8690 - val_loss: 0.1372 - val_accuracy: 0.8540\n",
      "Epoch 21/75\n",
      "12/12 - 5s - loss: 0.1115 - accuracy: 0.8744 - val_loss: 0.1416 - val_accuracy: 0.8443\n",
      "Epoch 22/75\n",
      "12/12 - 5s - loss: 0.1070 - accuracy: 0.8809 - val_loss: 0.1277 - val_accuracy: 0.8605\n",
      "Epoch 23/75\n",
      "12/12 - 5s - loss: 0.1080 - accuracy: 0.8747 - val_loss: 0.1344 - val_accuracy: 0.8566\n",
      "Epoch 24/75\n",
      "12/12 - 5s - loss: 0.1013 - accuracy: 0.8863 - val_loss: 0.1311 - val_accuracy: 0.8592\n",
      "Epoch 25/75\n",
      "12/12 - 5s - loss: 0.1026 - accuracy: 0.8901 - val_loss: 0.1391 - val_accuracy: 0.8462\n",
      "Epoch 26/75\n",
      "12/12 - 5s - loss: 0.0958 - accuracy: 0.8973 - val_loss: 0.1298 - val_accuracy: 0.8598\n",
      "Epoch 27/75\n",
      "12/12 - 5s - loss: 0.0920 - accuracy: 0.8994 - val_loss: 0.1221 - val_accuracy: 0.8748\n",
      "Epoch 28/75\n",
      "12/12 - 5s - loss: 0.0895 - accuracy: 0.8990 - val_loss: 0.1350 - val_accuracy: 0.8501\n",
      "Epoch 29/75\n",
      "12/12 - 5s - loss: 0.0888 - accuracy: 0.8977 - val_loss: 0.1264 - val_accuracy: 0.8780\n",
      "Epoch 30/75\n",
      "12/12 - 5s - loss: 0.0800 - accuracy: 0.9146 - val_loss: 0.1296 - val_accuracy: 0.8650\n",
      "Epoch 31/75\n",
      "12/12 - 5s - loss: 0.0809 - accuracy: 0.9115 - val_loss: 0.1324 - val_accuracy: 0.8689\n",
      "Epoch 32/75\n",
      "12/12 - 5s - loss: 0.0846 - accuracy: 0.9124 - val_loss: 0.1230 - val_accuracy: 0.8696\n",
      "Epoch 33/75\n",
      "12/12 - 5s - loss: 0.0770 - accuracy: 0.9205 - val_loss: 0.1248 - val_accuracy: 0.8696\n",
      "Epoch 34/75\n",
      "12/12 - 5s - loss: 0.0810 - accuracy: 0.9061 - val_loss: 0.1292 - val_accuracy: 0.8676\n",
      "Epoch 35/75\n",
      "12/12 - 5s - loss: 0.0685 - accuracy: 0.9236 - val_loss: 0.1250 - val_accuracy: 0.8709\n",
      "Epoch 36/75\n",
      "12/12 - 5s - loss: 0.0713 - accuracy: 0.9214 - val_loss: 0.1309 - val_accuracy: 0.8787\n",
      "Epoch 37/75\n",
      "12/12 - 5s - loss: 0.0715 - accuracy: 0.9213 - val_loss: 0.1319 - val_accuracy: 0.8676\n",
      "Epoch 38/75\n",
      "12/12 - 5s - loss: 0.0693 - accuracy: 0.9248 - val_loss: 0.1387 - val_accuracy: 0.8624\n",
      "Epoch 39/75\n",
      "12/12 - 5s - loss: 0.0670 - accuracy: 0.9288 - val_loss: 0.1251 - val_accuracy: 0.8696\n",
      "Epoch 40/75\n",
      "12/12 - 5s - loss: 0.0681 - accuracy: 0.9263 - val_loss: 0.1324 - val_accuracy: 0.8709\n",
      "Epoch 41/75\n",
      "12/12 - 5s - loss: 0.0628 - accuracy: 0.9321 - val_loss: 0.1285 - val_accuracy: 0.8735\n",
      "Epoch 42/75\n",
      "12/12 - 5s - loss: 0.0683 - accuracy: 0.9230 - val_loss: 0.1195 - val_accuracy: 0.8722\n",
      "Epoch 43/75\n",
      "12/12 - 5s - loss: 0.0574 - accuracy: 0.9346 - val_loss: 0.1323 - val_accuracy: 0.8631\n",
      "Epoch 44/75\n",
      "12/12 - 5s - loss: 0.0589 - accuracy: 0.9327 - val_loss: 0.1226 - val_accuracy: 0.8702\n",
      "Epoch 45/75\n",
      "12/12 - 5s - loss: 0.0602 - accuracy: 0.9352 - val_loss: 0.1425 - val_accuracy: 0.8611\n",
      "Epoch 46/75\n",
      "12/12 - 5s - loss: 0.0542 - accuracy: 0.9430 - val_loss: 0.1313 - val_accuracy: 0.8702\n",
      "Epoch 47/75\n",
      "12/12 - 5s - loss: 0.0561 - accuracy: 0.9378 - val_loss: 0.1310 - val_accuracy: 0.8702\n",
      "Epoch 48/75\n",
      "12/12 - 5s - loss: 0.0524 - accuracy: 0.9467 - val_loss: 0.1384 - val_accuracy: 0.8663\n",
      "Epoch 49/75\n",
      "12/12 - 5s - loss: 0.0536 - accuracy: 0.9422 - val_loss: 0.1376 - val_accuracy: 0.8689\n",
      "Epoch 50/75\n",
      "12/12 - 5s - loss: 0.0544 - accuracy: 0.9390 - val_loss: 0.1333 - val_accuracy: 0.8598\n",
      "Epoch 51/75\n",
      "12/12 - 5s - loss: 0.0497 - accuracy: 0.9447 - val_loss: 0.1254 - val_accuracy: 0.8709\n",
      "Epoch 52/75\n",
      "12/12 - 5s - loss: 0.0506 - accuracy: 0.9448 - val_loss: 0.1373 - val_accuracy: 0.8702\n",
      "Epoch 53/75\n",
      "12/12 - 5s - loss: 0.0469 - accuracy: 0.9538 - val_loss: 0.1303 - val_accuracy: 0.8735\n",
      "Epoch 54/75\n",
      "12/12 - 5s - loss: 0.0498 - accuracy: 0.9474 - val_loss: 0.1261 - val_accuracy: 0.8787\n",
      "Epoch 55/75\n",
      "12/12 - 5s - loss: 0.0428 - accuracy: 0.9566 - val_loss: 0.1370 - val_accuracy: 0.8741\n",
      "Epoch 56/75\n",
      "12/12 - 5s - loss: 0.0457 - accuracy: 0.9482 - val_loss: 0.1342 - val_accuracy: 0.8754\n",
      "Epoch 57/75\n",
      "12/12 - 5s - loss: 0.0420 - accuracy: 0.9543 - val_loss: 0.1324 - val_accuracy: 0.8715\n",
      "Epoch 58/75\n",
      "12/12 - 5s - loss: 0.0453 - accuracy: 0.9520 - val_loss: 0.1383 - val_accuracy: 0.8735\n",
      "Epoch 59/75\n",
      "12/12 - 5s - loss: 0.0418 - accuracy: 0.9567 - val_loss: 0.1283 - val_accuracy: 0.8754\n",
      "Epoch 60/75\n",
      "12/12 - 5s - loss: 0.0426 - accuracy: 0.9566 - val_loss: 0.1279 - val_accuracy: 0.8825\n",
      "Epoch 61/75\n",
      "12/12 - 5s - loss: 0.0401 - accuracy: 0.9557 - val_loss: 0.1347 - val_accuracy: 0.8754\n",
      "Epoch 62/75\n",
      "12/12 - 5s - loss: 0.0393 - accuracy: 0.9580 - val_loss: 0.1440 - val_accuracy: 0.8754\n",
      "Epoch 63/75\n",
      "12/12 - 5s - loss: 0.0387 - accuracy: 0.9581 - val_loss: 0.1437 - val_accuracy: 0.8676\n",
      "Epoch 64/75\n",
      "12/12 - 5s - loss: 0.0341 - accuracy: 0.9638 - val_loss: 0.1461 - val_accuracy: 0.8728\n",
      "Epoch 65/75\n",
      "12/12 - 5s - loss: 0.0353 - accuracy: 0.9632 - val_loss: 0.1417 - val_accuracy: 0.8754\n",
      "Epoch 66/75\n",
      "12/12 - 5s - loss: 0.0321 - accuracy: 0.9661 - val_loss: 0.1362 - val_accuracy: 0.8851\n",
      "Epoch 67/75\n",
      "12/12 - 5s - loss: 0.0391 - accuracy: 0.9593 - val_loss: 0.1283 - val_accuracy: 0.8774\n",
      "Epoch 68/75\n",
      "12/12 - 5s - loss: 0.0336 - accuracy: 0.9632 - val_loss: 0.1389 - val_accuracy: 0.8787\n",
      "Epoch 69/75\n",
      "12/12 - 5s - loss: 0.0338 - accuracy: 0.9627 - val_loss: 0.1256 - val_accuracy: 0.8864\n",
      "Epoch 70/75\n",
      "12/12 - 5s - loss: 0.0342 - accuracy: 0.9651 - val_loss: 0.1320 - val_accuracy: 0.8774\n",
      "Epoch 71/75\n",
      "12/12 - 5s - loss: 0.0313 - accuracy: 0.9650 - val_loss: 0.1357 - val_accuracy: 0.8787\n",
      "Epoch 72/75\n",
      "12/12 - 5s - loss: 0.0373 - accuracy: 0.9590 - val_loss: 0.1187 - val_accuracy: 0.8923\n",
      "Epoch 73/75\n",
      "12/12 - 5s - loss: 0.0283 - accuracy: 0.9705 - val_loss: 0.1285 - val_accuracy: 0.8806\n",
      "Epoch 74/75\n",
      "12/12 - 5s - loss: 0.0288 - accuracy: 0.9668 - val_loss: 0.1307 - val_accuracy: 0.8871\n",
      "Epoch 75/75\n",
      "12/12 - 5s - loss: 0.0301 - accuracy: 0.9670 - val_loss: 0.1524 - val_accuracy: 0.8799\n"
     ]
    }
   ],
   "source": [
    "for i, param in enumerate(param_grid):\n",
    "\n",
    "    # Define Parameters\n",
    "    EMBEDDING = param['embedding']\n",
    "    STOP_WORDS = param['stop_words']\n",
    "    LEMMATIZATION = param['lemmatization']\n",
    "    HIDDEN_DIM_1 = param['hidden_dim_1']\n",
    "    HIDDEN_DIM_2 = param['hidden_dim_2']\n",
    "    LSTM_STACK = param['lstm_stack']\n",
    "    DROP_OUT = param['dropout']\n",
    "    DROP_OUT_RATE = param['dropout_rate']\n",
    "    SAMPLE_WEIGHTS = param['sample_weights']\n",
    "    TRAINABLE = param['trainable']\n",
    "    OPTIMIZER = param['optimizer']\n",
    "    TIME_DISTRIBUTED = param['time_distributed']\n",
    "    \n",
    "\n",
    "    print(f\"Iteration:\\t\\t{i + 1}\")\n",
    "    print(f\"EMBEDDING:\\t\\t{EMBEDDING}\")\n",
    "    print(f\"STOP_WORDS:\\t\\t{STOP_WORDS}\")\n",
    "    print(f\"LEMMATIZATION:\\t\\t{LEMMATIZATION}\")\n",
    "    print(f\"HIDDEN_DIM:\\t\\t{HIDDEN_DIM_1}\")\n",
    "    print(f\"HIDDEN_DIM:\\t\\t{HIDDEN_DIM_2}\")\n",
    "    print(f\"LSTM_STACK:\\t\\t{LSTM_STACK}\")\n",
    "    print(f\"DROP_OUT:\\t\\t{DROP_OUT}\")\n",
    "    print(f\"DROP_OUT:\\t\\t{DROP_OUT_RATE}\")\n",
    "    print(f\"SAMPLE_WEIGHTS:\\t\\t{SAMPLE_WEIGHTS}\")\n",
    "    print(f\"TRAINABLE:\\t\\t{TRAINABLE}\")\n",
    "    print(f\"OPTIMIZER:\\t\\t{OPTIMIZER}\")\n",
    "    print(f\"TIME_DISTRIBUTED:\\t{TIME_DISTRIBUTED}\")\n",
    "    print()\n",
    "\n",
    "    # Initialize input dataframe\n",
    "    df_iter = df.copy()\n",
    "\n",
    "    # Process ------------------------------------------------------------------\n",
    "    # Process Text\n",
    "    df_iter = process_text(\n",
    "        df_iter, \n",
    "        stopwords = STOP_WORDS,\n",
    "        lemmatize = LEMMATIZATION\n",
    "    )\n",
    "\n",
    "    # Generate Target Labels\n",
    "    df_iter = target_gen_wrapper(\n",
    "        df_iter, \n",
    "        max_length=MAX_LENGTH\n",
    "        )\n",
    "    \n",
    "    # Split Training/Test Set\n",
    "    df_train, df_test = train_test_split(\n",
    "        df_iter,\n",
    "        test_size=0.25, \n",
    "        random_state = random_state\n",
    "        )\n",
    "    \n",
    "    # Define Target/Features\n",
    "    # Features\n",
    "    X_train = df_train['text'].tolist()\n",
    "    X_test = df_test['text'].tolist()\n",
    "\n",
    "    # Target\n",
    "    y_train_val = df_train['target_labels'].tolist()\n",
    "    y_test_val = df_test['target_labels'].tolist()\n",
    "\n",
    "    # Build Model --------------------------------------------------------------\n",
    "    # Vectorization Layer\n",
    "    vectorization_layer = TextVectorization(\n",
    "        max_tokens=MAX_FEATURES,\n",
    "        output_mode='int',\n",
    "        output_sequence_length=MAX_LENGTH\n",
    "        )\n",
    "\n",
    "    # Adapt to training data\n",
    "    vectorization_layer.adapt(X_train)\n",
    "\n",
    "    # Define vocabulary\n",
    "    vocab = vectorization_layer.get_vocabulary()\n",
    "    vocab_len = len(vocab)\n",
    "    word_index = dict(zip(vocab, range(vocab_len)))\n",
    "\n",
    "    # Create embedding matrix\n",
    "    embedding_matrix = gen_embedding_matrix(\n",
    "        dct_embedding_index = dct_embedding_index,\n",
    "        embed_label = EMBEDDING, \n",
    "        vocabulary_length = vocab_len, \n",
    "        word_index = word_index\n",
    "        )\n",
    "\n",
    "    # Embedding Layer\n",
    "    embedding_layer = gen_embedding_layer(\n",
    "        label = EMBEDDING,\n",
    "        input_dimension = vocab_len,\n",
    "        output_dimension_wo_init = 64,\n",
    "        max_length = MAX_LENGTH,\n",
    "        embedding_matrix = embedding_matrix,\n",
    "        trainable = TRAINABLE\n",
    "        )\n",
    "\n",
    "    # Compile Model\n",
    "    model = compile_model(\n",
    "        vectorization_layer = vectorization_layer,\n",
    "        embedding_layer = embedding_layer,\n",
    "        dropout = DROP_OUT,\n",
    "        dropout_rate = DROP_OUT_RATE,\n",
    "        lstm_stack = LSTM_STACK,\n",
    "        hidden_dimension_1 = HIDDEN_DIM_1,\n",
    "        hidden_dimension_2 = HIDDEN_DIM_2,\n",
    "        sample_weights = SAMPLE_WEIGHTS, \n",
    "        optimizer = OPTIMIZER,\n",
    "        time_distributed = TIME_DISTRIBUTED\n",
    "    )\n",
    "\n",
    "    # Convert and encode target/features\n",
    "    # # Convert features to numpy array from model input\n",
    "    X_train = np.array(X_train)\n",
    "\n",
    "    # Encode targets\n",
    "    y_train = encode_target(y_train_val)\n",
    "\n",
    "    # Convert target to numpy array for model input\n",
    "    y_train = np.array(y_train)\n",
    "\n",
    "    # Train Model --------------------------------------------------------------\n",
    "    if SAMPLE_WEIGHTS: \n",
    "        history = model.fit(\n",
    "                            X_train, y_train, \n",
    "                            batch_size=BATCH_SIZE, \n",
    "                            epochs=75, \n",
    "                            validation_split=0.2, \n",
    "                            sample_weight=sample_weight_matrix,\n",
    "                            verbose=2\n",
    "                            )\n",
    "    else: \n",
    "        history = model.fit(\n",
    "                            X_train, y_train, \n",
    "                            batch_size=BATCH_SIZE, \n",
    "                            epochs=75, \n",
    "                            validation_split=0.2, \n",
    "                            verbose=2\n",
    "                            )\n",
    "        \n",
    "    # Evaluation ---------------------------------------------------------------\n",
    "    # Generate Predictions\n",
    "    y_pred = []\n",
    "    for i in range(len(X_test)):\n",
    "        y_pred_prob = model.predict(np.array([X_test[i]]))\n",
    "        y_pred_class = np.argmax(y_pred_prob, axis=-1)[0].tolist()\n",
    "        y_pred.append(y_pred_class)\n",
    "\n",
    "    # Flatten lists\n",
    "    y_pred = flatten_list(y_pred)\n",
    "    y_test = flatten_list(y_test_val)\n",
    "\n",
    "    # Score Model\n",
    "    dct_summary = gen_eval_metrics(\n",
    "        dct_summary,\n",
    "        y_test, y_pred,\n",
    "        embedding = EMBEDDING,\n",
    "        stop_words = STOP_WORDS,\n",
    "        lemmatization = LEMMATIZATION,\n",
    "        hidden_dim_1 = HIDDEN_DIM_1,\n",
    "        hidden_dim_2 = HIDDEN_DIM_2,\n",
    "        lstm_stack = LSTM_STACK,\n",
    "        dropout = DROP_OUT,\n",
    "        dropout_rate = DROP_OUT_RATE,\n",
    "        sample_weights = SAMPLE_WEIGHTS,\n",
    "        trainable = TRAINABLE,\n",
    "        optimizer = OPTIMIZER,\n",
    "        time_distributed = TIME_DISTRIBUTED\n",
    "        )"
   ]
  },
  {
   "cell_type": "markdown",
   "metadata": {
    "id": "-3s0hItqQroH"
   },
   "source": [
    "## Output Model Summary"
   ]
  },
  {
   "cell_type": "code",
   "execution_count": 27,
   "metadata": {
    "colab": {
     "base_uri": "https://localhost:8080/",
     "height": 238
    },
    "executionInfo": {
     "elapsed": 344,
     "status": "error",
     "timestamp": 1614828836229,
     "user": {
      "displayName": "Evan Canfield",
      "photoUrl": "https://lh3.googleusercontent.com/a-/AOh14GhEQBcp694N8j_CiumfhnO4uh-h7N0uMc9ySCuRiA=s64",
      "userId": "16830523749518221174"
     },
     "user_tz": 300
    },
    "id": "UBez2Q29P_-r",
    "outputId": "a98b4d33-7b88-42e3-bcc2-ae3becb6b3f2"
   },
   "outputs": [],
   "source": [
    "# Output Results\n",
    "# Convert dictionary to dataframe\n",
    "df_summary = pd.DataFrame(dct_summary)\n",
    "\n",
    "# Create file path\n",
    "file_name_text = 'entity_extraction_evaluation_iter_3_'\n",
    "time_stamp =  time.strftime(\"%Y%m%d-%H%M%S\")\n",
    "file_extension = \".csv\"\n",
    "file_name = file_name_text + time_stamp + file_extension\n",
    "path = os.path.join(path_dir_data, subfolder_b, \n",
    "                    subfolder_entity, file_name)\n",
    "\n",
    "# Save table\n",
    "df_summary.to_csv(path, index=False)"
   ]
  },
  {
   "cell_type": "code",
   "execution_count": 28,
   "metadata": {},
   "outputs": [
    {
     "data": {
      "text/html": [
       "<div>\n",
       "<style scoped>\n",
       "    .dataframe tbody tr th:only-of-type {\n",
       "        vertical-align: middle;\n",
       "    }\n",
       "\n",
       "    .dataframe tbody tr th {\n",
       "        vertical-align: top;\n",
       "    }\n",
       "\n",
       "    .dataframe thead th {\n",
       "        text-align: right;\n",
       "    }\n",
       "</style>\n",
       "<table border=\"1\" class=\"dataframe\">\n",
       "  <thead>\n",
       "    <tr style=\"text-align: right;\">\n",
       "      <th></th>\n",
       "      <th>embedding</th>\n",
       "      <th>stop_words</th>\n",
       "      <th>lemmatization</th>\n",
       "      <th>hidden_dim_1</th>\n",
       "      <th>hidden_dim_2</th>\n",
       "      <th>lstm_stack</th>\n",
       "      <th>dropout</th>\n",
       "      <th>dropout_rate</th>\n",
       "      <th>sample_weights</th>\n",
       "      <th>trainable</th>\n",
       "      <th>...</th>\n",
       "      <th>precision_2</th>\n",
       "      <th>precision_macro</th>\n",
       "      <th>recall_0</th>\n",
       "      <th>recall_1</th>\n",
       "      <th>recall_2</th>\n",
       "      <th>recall_macro</th>\n",
       "      <th>f1_0</th>\n",
       "      <th>f1_1</th>\n",
       "      <th>f1_2</th>\n",
       "      <th>f1_macro</th>\n",
       "    </tr>\n",
       "  </thead>\n",
       "  <tbody>\n",
       "    <tr>\n",
       "      <th>0</th>\n",
       "      <td>glove</td>\n",
       "      <td>False</td>\n",
       "      <td>False</td>\n",
       "      <td>32</td>\n",
       "      <td>128</td>\n",
       "      <td>True</td>\n",
       "      <td>True</td>\n",
       "      <td>0.5</td>\n",
       "      <td>False</td>\n",
       "      <td>True</td>\n",
       "      <td>...</td>\n",
       "      <td>0.875666</td>\n",
       "      <td>0.926650</td>\n",
       "      <td>0.986767</td>\n",
       "      <td>0.859425</td>\n",
       "      <td>0.901280</td>\n",
       "      <td>0.915824</td>\n",
       "      <td>0.984906</td>\n",
       "      <td>0.889256</td>\n",
       "      <td>0.888288</td>\n",
       "      <td>0.920817</td>\n",
       "    </tr>\n",
       "    <tr>\n",
       "      <th>1</th>\n",
       "      <td>glove</td>\n",
       "      <td>False</td>\n",
       "      <td>False</td>\n",
       "      <td>32</td>\n",
       "      <td>128</td>\n",
       "      <td>True</td>\n",
       "      <td>True</td>\n",
       "      <td>0.5</td>\n",
       "      <td>False</td>\n",
       "      <td>True</td>\n",
       "      <td>...</td>\n",
       "      <td>0.905482</td>\n",
       "      <td>0.933514</td>\n",
       "      <td>0.990112</td>\n",
       "      <td>0.840256</td>\n",
       "      <td>0.875686</td>\n",
       "      <td>0.902018</td>\n",
       "      <td>0.985170</td>\n",
       "      <td>0.875937</td>\n",
       "      <td>0.890335</td>\n",
       "      <td>0.917147</td>\n",
       "    </tr>\n",
       "    <tr>\n",
       "      <th>2</th>\n",
       "      <td>glove</td>\n",
       "      <td>False</td>\n",
       "      <td>False</td>\n",
       "      <td>32</td>\n",
       "      <td>128</td>\n",
       "      <td>True</td>\n",
       "      <td>True</td>\n",
       "      <td>0.5</td>\n",
       "      <td>False</td>\n",
       "      <td>True</td>\n",
       "      <td>...</td>\n",
       "      <td>0.898305</td>\n",
       "      <td>0.924028</td>\n",
       "      <td>0.986913</td>\n",
       "      <td>0.899361</td>\n",
       "      <td>0.872029</td>\n",
       "      <td>0.919434</td>\n",
       "      <td>0.986339</td>\n",
       "      <td>0.893651</td>\n",
       "      <td>0.884972</td>\n",
       "      <td>0.921654</td>\n",
       "    </tr>\n",
       "    <tr>\n",
       "      <th>3</th>\n",
       "      <td>glove</td>\n",
       "      <td>False</td>\n",
       "      <td>False</td>\n",
       "      <td>32</td>\n",
       "      <td>128</td>\n",
       "      <td>True</td>\n",
       "      <td>True</td>\n",
       "      <td>0.5</td>\n",
       "      <td>False</td>\n",
       "      <td>True</td>\n",
       "      <td>...</td>\n",
       "      <td>0.908382</td>\n",
       "      <td>0.927143</td>\n",
       "      <td>0.989094</td>\n",
       "      <td>0.884984</td>\n",
       "      <td>0.851920</td>\n",
       "      <td>0.908666</td>\n",
       "      <td>0.986440</td>\n",
       "      <td>0.887110</td>\n",
       "      <td>0.879245</td>\n",
       "      <td>0.917598</td>\n",
       "    </tr>\n",
       "  </tbody>\n",
       "</table>\n",
       "<p>4 rows × 25 columns</p>\n",
       "</div>"
      ],
      "text/plain": [
       "  embedding  stop_words  lemmatization  hidden_dim_1  hidden_dim_2  \\\n",
       "0     glove       False          False            32           128   \n",
       "1     glove       False          False            32           128   \n",
       "2     glove       False          False            32           128   \n",
       "3     glove       False          False            32           128   \n",
       "\n",
       "   lstm_stack  dropout  dropout_rate  sample_weights  trainable  ...  \\\n",
       "0        True     True           0.5           False       True  ...   \n",
       "1        True     True           0.5           False       True  ...   \n",
       "2        True     True           0.5           False       True  ...   \n",
       "3        True     True           0.5           False       True  ...   \n",
       "\n",
       "  precision_2  precision_macro  recall_0  recall_1  recall_2  recall_macro  \\\n",
       "0    0.875666         0.926650  0.986767  0.859425  0.901280      0.915824   \n",
       "1    0.905482         0.933514  0.990112  0.840256  0.875686      0.902018   \n",
       "2    0.898305         0.924028  0.986913  0.899361  0.872029      0.919434   \n",
       "3    0.908382         0.927143  0.989094  0.884984  0.851920      0.908666   \n",
       "\n",
       "       f1_0      f1_1      f1_2  f1_macro  \n",
       "0  0.984906  0.889256  0.888288  0.920817  \n",
       "1  0.985170  0.875937  0.890335  0.917147  \n",
       "2  0.986339  0.893651  0.884972  0.921654  \n",
       "3  0.986440  0.887110  0.879245  0.917598  \n",
       "\n",
       "[4 rows x 25 columns]"
      ]
     },
     "execution_count": 28,
     "metadata": {},
     "output_type": "execute_result"
    }
   ],
   "source": [
    "df_summary"
   ]
  },
  {
   "cell_type": "markdown",
   "metadata": {
    "id": "6hBjXcsZtd1c"
   },
   "source": [
    "## Visuals"
   ]
  },
  {
   "cell_type": "markdown",
   "metadata": {
    "id": "PHwYt3OGtiUZ"
   },
   "source": [
    "### Accuracy Charts"
   ]
  },
  {
   "cell_type": "code",
   "execution_count": null,
   "metadata": {
    "id": "YQrprnG2tgSl"
   },
   "outputs": [],
   "source": [
    "# hist = pd.DataFrame(history.history)\n",
    "\n",
    "# #plot training and validation accuracy\n",
    "# f = plt.figure(figsize=(5,5))\n",
    "# plt.plot(hist[\"accuracy\"], label =' Training Accuracy')\n",
    "# plt.plot(hist[\"val_accuracy\"], label = 'Validation Accuracy')\n",
    "# plt.legend(loc=\"lower right\")\n",
    "# plt.show()\n",
    "\n",
    "# # Save and output\n",
    "# file_name = 'enitity_extraction_training_validation_accuracy.png'\n",
    "# path = os.path.join(path_dir_data, file_name)\n",
    "# f.savefig(path)\n",
    "# # f.download(path)"
   ]
  },
  {
   "cell_type": "markdown",
   "metadata": {
    "id": "9BI857mr_KqE"
   },
   "source": [
    "### Confusion Matrix"
   ]
  },
  {
   "cell_type": "code",
   "execution_count": null,
   "metadata": {
    "id": "PzMImjtOhMB0"
   },
   "outputs": [],
   "source": [
    "# # Create confusion matrix\n",
    "# cm = confusion_matrix(y_test_fl, y_pred_fl)\n",
    "# df_cm = pd.DataFrame(cm, columns=np.unique(y_test_fl), index = np.unique(y_pred_fl))\n",
    "# df_cm.index.name = 'Actual'\n",
    "# df_cm.columns.name = 'Predicted'\n",
    "\n",
    "# # Visualize\n",
    "# plt.figure(figsize = (10,7))\n",
    "# sn.set(font_scale=1.4)#for label size\n",
    "# sn.heatmap(df_cm, cmap=\"Blues\", annot=True,annot_kws={\"size\": 16})# font size"
   ]
  },
  {
   "cell_type": "markdown",
   "metadata": {
    "id": "rOoxfczhTLwT"
   },
   "source": [
    "# Save and Restore Model\n",
    "The following section tests saving and restoring the model."
   ]
  },
  {
   "cell_type": "markdown",
   "metadata": {
    "id": "oW25ooyxTLwU"
   },
   "source": [
    "## Save"
   ]
  },
  {
   "cell_type": "code",
   "execution_count": null,
   "metadata": {
    "id": "O9tFduNNTLwU"
   },
   "outputs": [],
   "source": [
    "# # Export Model\n",
    "# folder_keras_model = 'entity_extraction_w_processing_keras'\n",
    "# path_keras_model = os.path.join(path_dir_data, folder_keras_model)\n",
    "\n",
    "# # SavedModel\n",
    "# model.save(path_keras_model)\n"
   ]
  },
  {
   "cell_type": "markdown",
   "metadata": {
    "id": "7X5xtWPdTLwV"
   },
   "source": [
    "# Restore"
   ]
  },
  {
   "cell_type": "code",
   "execution_count": null,
   "metadata": {
    "id": "1lApnHIrTLwW"
   },
   "outputs": [],
   "source": [
    "# from tensorflow import keras\n",
    "# model = keras.models.load_model(path_keras_model)"
   ]
  }
 ],
 "metadata": {
  "colab": {
   "collapsed_sections": [],
   "name": "entity_extraction_w_pretrain_grid.ipynb",
   "provenance": [
    {
     "file_id": "1hiwAiWwiPi6jy6qMO-ZxvDvsfRdNpjup",
     "timestamp": 1614722070764
    },
    {
     "file_id": "1901b2Vjlq_cQumMzrQMzMj4YSAtYtQQB",
     "timestamp": 1613920819813
    },
    {
     "file_id": "1OI2mVjZSb6A4T1kqElXrhVQnRoMepdCS",
     "timestamp": 1609713580791
    }
   ],
   "toc_visible": true
  },
  "kernelspec": {
   "display_name": "Python 3",
   "language": "python",
   "name": "python3"
  },
  "language_info": {
   "codemirror_mode": {
    "name": "ipython",
    "version": 3
   },
   "file_extension": ".py",
   "mimetype": "text/x-python",
   "name": "python",
   "nbconvert_exporter": "python",
   "pygments_lexer": "ipython3",
   "version": "3.6.12"
  }
 },
 "nbformat": 4,
 "nbformat_minor": 4
}
