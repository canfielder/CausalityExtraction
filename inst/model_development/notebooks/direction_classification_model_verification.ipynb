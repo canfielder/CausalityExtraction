{
 "cells": [
  {
   "cell_type": "markdown",
   "metadata": {},
   "source": [
    "# Import"
   ]
  },
  {
   "cell_type": "markdown",
   "metadata": {},
   "source": [
    "## Packages"
   ]
  },
  {
   "cell_type": "code",
   "execution_count": 1,
   "metadata": {},
   "outputs": [],
   "source": [
    "# General\n",
    "import itertools\n",
    "import os\n",
    "\n",
    "from joblib import dump, load"
   ]
  },
  {
   "cell_type": "markdown",
   "metadata": {},
   "source": [
    "## Models"
   ]
  },
  {
   "cell_type": "markdown",
   "metadata": {},
   "source": [
    "## In Package"
   ]
  },
  {
   "cell_type": "code",
   "execution_count": 2,
   "metadata": {},
   "outputs": [
    {
     "data": {
      "text/plain": [
       "{'causality': Pipeline(steps=[('vectorizer',\n",
       "                  CountVectorizer(binary=True, ngram_range=(1, 3))),\n",
       "                 ('clf',\n",
       "                  LogisticRegression(C=0.013395544446281223, penalty='none',\n",
       "                                     random_state=5590))]),\n",
       " 'direction': Pipeline(steps=[('vectorizer',\n",
       "                  CountVectorizer(binary=True, ngram_range=(1, 3))),\n",
       "                 ('clf',\n",
       "                  LogisticRegression(C=33.220820004030706, penalty='l1',\n",
       "                                     random_state=5590, solver='liblinear'))])}"
      ]
     },
     "execution_count": 2,
     "metadata": {},
     "output_type": "execute_result"
    }
   ],
   "source": [
    "dct_models_package = {}\n",
    "\n",
    "# Causality\n",
    "dir_path  = \"./../../extdata/models/\"\n",
    "file_tag = \"causality\"\n",
    "file_name = file_tag + \".joblib\"\n",
    "file_path = os.path.join(dir_path, file_name)\n",
    "\n",
    "dct_models_package[file_tag] = load(file_path)\n",
    "\n",
    "# Direction\n",
    "file_tag = \"direction\"\n",
    "file_name = file_tag + \".joblib\"\n",
    "file_path = os.path.join(dir_path, file_name)\n",
    "\n",
    "dct_models_package[file_tag] = load(file_path)      \n",
    "\n",
    "# Output\n",
    "dct_models_package"
   ]
  },
  {
   "cell_type": "markdown",
   "metadata": {},
   "source": [
    "## In Analysis / Development"
   ]
  },
  {
   "cell_type": "code",
   "execution_count": 7,
   "metadata": {},
   "outputs": [
    {
     "data": {
      "text/plain": [
       "{'causality': Pipeline(steps=[('vectorizer',\n",
       "                  CountVectorizer(binary=True, ngram_range=(1, 3))),\n",
       "                 ('clf',\n",
       "                  LogisticRegression(C=0.013395544446281223, penalty='none',\n",
       "                                     random_state=5590))]),\n",
       " 'direction': Pipeline(steps=[('vectorizer',\n",
       "                  CountVectorizer(binary=True, ngram_range=(1, 3))),\n",
       "                 ('clf',\n",
       "                  LogisticRegression(C=33.220820004030706, penalty='l1',\n",
       "                                     random_state=5590, solver='liblinear'))])}"
      ]
     },
     "execution_count": 7,
     "metadata": {},
     "output_type": "execute_result"
    }
   ],
   "source": [
    "dct_models_development = {}\n",
    "\n",
    "# Causality\n",
    "dir_path  = \"./../data/output/\"\n",
    "folder_tag = \"causality_direction\"\n",
    "file_tag= \"causality\"\n",
    "file_name = file_tag + \".joblib\"\n",
    "file_path = os.path.join(dir_path, folder_tag, file_name)\n",
    "\n",
    "dct_models_development[file_tag] = load(file_path)\n",
    "\n",
    "# Direction\n",
    "file_tag = \"direction\"\n",
    "file_name = file_tag + \".joblib\"\n",
    "file_path = os.path.join(dir_path, folder_tag, file_name)\n",
    "\n",
    "dct_models_development[file_tag] = load(file_path)      \n",
    "\n",
    "# Output\n",
    "dct_models_development"
   ]
  },
  {
   "cell_type": "code",
   "execution_count": null,
   "metadata": {},
   "outputs": [],
   "source": []
  }
 ],
 "metadata": {
  "kernelspec": {
   "display_name": "Python 3",
   "language": "python",
   "name": "python3"
  },
  "language_info": {
   "codemirror_mode": {
    "name": "ipython",
    "version": 3
   },
   "file_extension": ".py",
   "mimetype": "text/x-python",
   "name": "python",
   "nbconvert_exporter": "python",
   "pygments_lexer": "ipython3",
   "version": "3.6.12"
  }
 },
 "nbformat": 4,
 "nbformat_minor": 4
}
